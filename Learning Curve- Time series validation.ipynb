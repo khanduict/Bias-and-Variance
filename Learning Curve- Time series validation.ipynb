{
 "cells": [
  {
   "cell_type": "code",
   "execution_count": 1,
   "metadata": {},
   "outputs": [
    {
     "name": "stdout",
     "output_type": "stream",
     "text": [
      "Tensorflow: 2.0.0-alpha0\n"
     ]
    },
    {
     "name": "stderr",
     "output_type": "stream",
     "text": [
      "Using TensorFlow backend.\n"
     ]
    }
   ],
   "source": [
    "import numpy as np\n",
    "import pandas as pd\n",
    "\n",
    "from sklearn.model_selection import GridSearchCV\n",
    "from sklearn.preprocessing import MinMaxScaler\n",
    "import matplotlib.pyplot as plt\n",
    "%matplotlib inline\n",
    "from matplotlib.ticker import MaxNLocator\n",
    "#import seaborn as sns\n",
    "from sklearn.metrics import mean_squared_error, mean_squared_log_error, explained_variance_score\n",
    "from sklearn.model_selection import learning_curve, validation_curve\n",
    "\n",
    "from tensorflow.keras.callbacks import TensorBoard, EarlyStopping\n",
    "from tensorflow.keras import callbacks\n",
    "from tensorflow.keras import backend as K\n",
    "from keras.layers.advanced_activations import LeakyReLU\n",
    "from tensorflow.keras import backend\n",
    "import os\n",
    "from pandas import DataFrame\n",
    "from numpy import concatenate\n",
    "\n",
    "import tensorflow as tf\n",
    "print(\"Tensorflow:\", tf.__version__)\n",
    "from tensorflow.keras.models import Sequential\n",
    "from tensorflow.keras.layers import Dense, LSTM, SimpleRNN, BatchNormalization, Activation, Dropout, LeakyReLU, PReLU\n",
    "from tensorflow.keras.wrappers.scikit_learn import KerasClassifier\n",
    "\n",
    "\n",
    "from sklearn.model_selection import GridSearchCV\n",
    "from tensorflow.keras.wrappers.scikit_learn import KerasClassifier\n",
    "import datetime\n",
    "from math import sqrt\n",
    "from sklearn.model_selection import TimeSeriesSplit, LeaveOneOut, KFold\n",
    "from keras.wrappers.scikit_learn import KerasRegressor\n",
    "from sklearn.model_selection import ShuffleSplit\n",
    "from sklearn.metrics import f1_score\n",
    "import statistics\n",
    "from sklearn.datasets import load_digits\n",
    "from sklearn.model_selection import cross_val_score\n",
    "from sklearn.model_selection import StratifiedKFold"
   ]
  },
  {
   "cell_type": "code",
   "execution_count": 2,
   "metadata": {},
   "outputs": [],
   "source": [
    "np.random.seed(7)"
   ]
  },
  {
   "cell_type": "code",
   "execution_count": 3,
   "metadata": {},
   "outputs": [],
   "source": [
    "#************************RPE (Relative Percentage Error)*****************************\n",
    "def rpe(y_true, y_pred):\n",
    "    return backend.abs((y_pred - y_true)/y_true * 100)"
   ]
  },
  {
   "cell_type": "code",
   "execution_count": 4,
   "metadata": {},
   "outputs": [],
   "source": [
    "#*********************** (Root Mean Sequare Error metrics)********************************\n",
    "def rmse(y_true, y_pred):\n",
    "    return backend.sqrt(backend.mean(backend.square(y_pred - y_true), axis=-1))"
   ]
  },
  {
   "cell_type": "code",
   "execution_count": 5,
   "metadata": {},
   "outputs": [],
   "source": [
    "#*******************************Load data***************************************\n",
    "data_raw = []\n",
    "for week in range(1, 11):\n",
    "    week_data = pd.read_csv('../Paper1/TUCspam{}.csv'.format(week)).values\n",
    "    data_raw.append(week_data)"
   ]
  },
  {
   "cell_type": "code",
   "execution_count": 6,
   "metadata": {},
   "outputs": [
    {
     "data": {
      "text/plain": [
       "(10,)"
      ]
     },
     "execution_count": 6,
     "metadata": {},
     "output_type": "execute_result"
    }
   ],
   "source": [
    "data = np.array(data_raw)\n",
    "data.shape"
   ]
  },
  {
   "cell_type": "markdown",
   "metadata": {},
   "source": [
    "# Time series split"
   ]
  },
  {
   "cell_type": "code",
   "execution_count": 7,
   "metadata": {},
   "outputs": [
    {
     "name": "stdout",
     "output_type": "stream",
     "text": [
      "Train: [0] \t Test: [1]\n",
      "Train: [0 1] \t Test: [2]\n",
      "Train: [0 1 2] \t Test: [3]\n",
      "Train: [0 1 2 3] \t Test: [4]\n",
      "Train: [0 1 2 3 4] \t Test: [5]\n",
      "Train: [0 1 2 3 4 5] \t Test: [6]\n",
      "Train: [0 1 2 3 4 5 6] \t Test: [7]\n",
      "Train: [0 1 2 3 4 5 6 7] \t Test: [8]\n",
      "Train: [0 1 2 3 4 5 6 7 8] \t Test: [9]\n"
     ]
    }
   ],
   "source": [
    "X = [1,2,3,4,5,6,7,8,9,10]\n",
    "\n",
    "splits = TimeSeriesSplit(n_splits=9)\n",
    "for train, test in splits.split(X):\n",
    "    print('Train: {} \\t Test: {}'.format(train, test))"
   ]
  },
  {
   "cell_type": "code",
   "execution_count": 8,
   "metadata": {},
   "outputs": [
    {
     "name": "stdout",
     "output_type": "stream",
     "text": [
      "(428, 1) (669, 1)\n",
      "(1097, 1) (349, 1)\n",
      "(1446, 1) (480, 1)\n",
      "(1926, 1) (341, 1)\n",
      "(2267, 1) (572, 1)\n",
      "(2839, 1) (434, 1)\n",
      "(3273, 1) (511, 1)\n",
      "(3784, 1) (349, 1)\n",
      "(4133, 1) (421, 1)\n"
     ]
    }
   ],
   "source": [
    "index = 1\n",
    "splits = TimeSeriesSplit(n_splits=9)\n",
    "for train_index, test_index in splits.split(data):\n",
    "    data_train= data[train_index]\n",
    "    data_test = data [test_index]\n",
    "    data_train = np.concatenate(data_train)\n",
    "    data_test = np.concatenate (data_test)\n",
    "    print (data_train.shape, data_test.shape)"
   ]
  },
  {
   "cell_type": "code",
   "execution_count": null,
   "metadata": {},
   "outputs": [],
   "source": []
  },
  {
   "cell_type": "code",
   "execution_count": 9,
   "metadata": {},
   "outputs": [],
   "source": [
    "#****************************Create lagged time series dataset*******************\n",
    "look_back=3\n",
    "\n",
    "def prepare_seq2seq_data(dataset, look_back=1):\n",
    "\n",
    "    dataX, dataY = [], []\n",
    "    for i in range(len(dataset)-look_back-1):\n",
    "        a = dataset[i:(i+look_back), 0]\n",
    "        dataX.append(a)\n",
    "        dataY.append(dataset[i + look_back, 0])\n",
    "    return np.array(dataX), np.array(dataY)"
   ]
  },
  {
   "cell_type": "code",
   "execution_count": 10,
   "metadata": {},
   "outputs": [],
   "source": [
    "data_train= data_train.astype('float32')\n",
    "data_test = data_test.astype('float32')\n",
    "    \n",
    "scaler = MinMaxScaler (feature_range= (-1,1)) \n",
    "train_scaled = scaler.fit_transform (data_train)\n",
    "test_scaled = scaler.transform(data_test)"
   ]
  },
  {
   "cell_type": "code",
   "execution_count": 11,
   "metadata": {},
   "outputs": [],
   "source": [
    "look_back = 3\n",
    "train_X, train_y = prepare_seq2seq_data(train_scaled, look_back)\n",
    "test_X, test_y = prepare_seq2seq_data(test_scaled, look_back)"
   ]
  },
  {
   "cell_type": "code",
   "execution_count": 12,
   "metadata": {},
   "outputs": [
    {
     "name": "stdout",
     "output_type": "stream",
     "text": [
      "(4129, 3, 1) (4129,) (417, 3, 1) (417,)\n"
     ]
    }
   ],
   "source": [
    "train_X = np.reshape(train_X,(train_X.shape[0], train_X.shape[1], 1))\n",
    "test_X = np.reshape(test_X,(test_X.shape[0], test_X.shape[1], 1))\n",
    "print (train_X.shape,train_y.shape, test_X.shape, test_y.shape)"
   ]
  },
  {
   "cell_type": "code",
   "execution_count": 13,
   "metadata": {},
   "outputs": [],
   "source": [
    "#************************RPE (Relative Percentage Error)*****************************\n",
    "\n",
    "def rpe(y_true, y_pred):\n",
    "    return backend.abs((y_pred - y_true)/y_true * 100)"
   ]
  },
  {
   "cell_type": "markdown",
   "metadata": {},
   "source": [
    "# RNN model"
   ]
  },
  {
   "cell_type": "code",
   "execution_count": 14,
   "metadata": {},
   "outputs": [],
   "source": [
    "input_shape = train_X[0].shape\n",
    "\n",
    "def build_network1 ():\n",
    "    \n",
    "    #RNN model\n",
    "    model_rnn = tf.keras.Sequential([\n",
    "    tf.keras.layers.SimpleRNN(128, input_shape=(look_back, 1)),\n",
    "    tf.keras.layers.Dense(1)\n",
    "    ])\n",
    "    optimizer = tf.keras.optimizers.Adam(lr=0.0001)\n",
    "    model_rnn.compile(loss='mse', optimizer=optimizer, metrics=[rpe, rmse])\n",
    "     # fit the model or train on data\n",
    "    model_rnn.fit (train_X, train_y)\n",
    "    return model_rnn"
   ]
  },
  {
   "cell_type": "markdown",
   "metadata": {},
   "source": [
    "# LSTM model"
   ]
  },
  {
   "cell_type": "code",
   "execution_count": 15,
   "metadata": {},
   "outputs": [],
   "source": [
    "def build_network2 ():\n",
    "     \n",
    "    #LSTM model\n",
    "    model_lstm = tf.keras.Sequential([\n",
    "    tf.keras.layers.LSTM(128, input_shape=(look_back, 1)),\n",
    "    tf.keras.layers.Dense(1)\n",
    "    ])\n",
    "    optimizer = tf.keras.optimizers.Adam(lr=0.0001)\n",
    "    model_lstm.compile(loss='mse', optimizer=optimizer, metrics=[rpe, rmse])\n",
    "    # fit the model or train on data\n",
    "    model_lstm.fit (train_X, train_y)\n",
    "    return model_lstm"
   ]
  },
  {
   "cell_type": "markdown",
   "metadata": {},
   "source": [
    "# GRU model"
   ]
  },
  {
   "cell_type": "code",
   "execution_count": 16,
   "metadata": {},
   "outputs": [],
   "source": [
    "def build_network3 ():\n",
    "    \n",
    "    #GRU model\n",
    "    model_gru = tf.keras.Sequential([\n",
    "    tf.keras.layers.GRU(128, input_shape=(look_back, 1)),\n",
    "    tf.keras.layers.Dense(1)\n",
    "    ])\n",
    "    optimizer = tf.keras.optimizers.Adam(lr=0.0001)\n",
    "    model_gru.compile(loss='mse', optimizer=optimizer, metrics=[rpe, rmse])\n",
    "    # fit the model or train on data\n",
    "    model_gru.fit (train_X, train_y)\n",
    "    return model_gru"
   ]
  },
  {
   "cell_type": "code",
   "execution_count": 17,
   "metadata": {},
   "outputs": [],
   "source": [
    "def get_score(model, train_X, test_X,train_y, test_y):\n",
    "    model.fit(train_X, train_y)\n",
    "    return model.score(test_X, test_y)"
   ]
  },
  {
   "cell_type": "code",
   "execution_count": null,
   "metadata": {},
   "outputs": [],
   "source": []
  },
  {
   "cell_type": "markdown",
   "metadata": {},
   "source": [
    "# Learning curve (training and validation)"
   ]
  },
  {
   "cell_type": "code",
   "execution_count": 18,
   "metadata": {},
   "outputs": [],
   "source": [
    "''' Estimator'''\n",
    "# create model\n",
    "#model = KerasClassifier(build_fn=create_model, epochs=150, batch_size=10, verbose=0)\n",
    "\n",
    "estimator_rnn = KerasRegressor(build_fn=build_network1, batch_size=64, nb_epoch=1, verbose=1)"
   ]
  },
  {
   "cell_type": "code",
   "execution_count": 19,
   "metadata": {},
   "outputs": [],
   "source": [
    "#estimator_rnn.fit(train_X, train_y)"
   ]
  },
  {
   "cell_type": "code",
   "execution_count": 20,
   "metadata": {
    "scrolled": true
   },
   "outputs": [
    {
     "name": "stdout",
     "output_type": "stream",
     "text": [
      "4129/4129 [==============================] - 0s 110us/sample - loss: 0.2355 - rpe: 32.9219 - rmse: 0.2772\n",
      "421/421 [==============================] - 0s 31us/sample - loss: 0.0345 - rpe: 7.0526 - rmse: 0.0485\n",
      "412/412 [==============================] - 0s 93us/sample\n",
      "4129/4129 [==============================] - 0s 86us/sample - loss: 0.1876 - rpe: 30.0013 - rmse: 0.2409\n",
      "833/833 [==============================] - 0s 29us/sample - loss: 0.0164 - rpe: 4.1418 - rmse: 0.0301\n",
      "412/412 [==============================] - 0s 99us/sample\n",
      "4129/4129 [==============================] - 0s 91us/sample - loss: 0.0705 - rpe: 19.6847 - rmse: 0.1336\n",
      "1245/1245 [==============================] - 0s 26us/sample - loss: 0.0139 - rpe: 3.8374 - rmse: 0.0271\n",
      "412/412 [==============================] - 0s 97us/sample\n",
      "4129/4129 [==============================] - 0s 98us/sample - loss: 0.3643 - rpe: 40.9149 - rmse: 0.3604\n",
      "1657/1657 [==============================] - 0s 30us/sample - loss: 0.0106 - rpe: 3.4029 - rmse: 0.0257\n",
      "412/412 [==============================] - 0s 116us/sample\n",
      "4129/4129 [==============================] - 0s 89us/sample - loss: 0.0987 - rpe: 22.3355 - rmse: 0.1603\n",
      "2069/2069 [==============================] - 0s 33us/sample - loss: 0.0109 - rpe: 4.7912 - rmse: 0.0275\n",
      "412/412 [==============================] - 0s 95us/sample\n",
      "4129/4129 [==============================] - 0s 91us/sample - loss: 0.1564 - rpe: 28.5294 - rmse: 0.2202\n",
      "2481/2481 [==============================] - 0s 29us/sample - loss: 0.0117 - rpe: 5.1998 - rmse: 0.0274\n",
      "412/412 [==============================] - 0s 95us/sample\n",
      "4129/4129 [==============================] - 0s 88us/sample - loss: 0.0799 - rpe: 20.4387 - rmse: 0.1439\n",
      "2893/2893 [==============================] - 0s 30us/sample - loss: 0.0110 - rpe: 9.0244 - rmse: 0.0300\n",
      "412/412 [==============================] - 0s 99us/sample\n",
      "4129/4129 [==============================] - 0s 92us/sample - loss: 0.0808 - rpe: 19.3837 - rmse: 0.1449\n",
      "3305/3305 [==============================] - 0s 30us/sample - loss: 0.0097 - rpe: 8.0707 - rmse: 0.0280\n",
      "412/412 [==============================] - 0s 99us/sample\n",
      "4129/4129 [==============================] - 0s 91us/sample - loss: 0.0232 - rpe: 13.3584 - rmse: 0.0704\n",
      "3717/3717 [==============================] - 0s 31us/sample - loss: 0.0098 - rpe: 10.0615 - rmse: 0.0298\n",
      "412/412 [==============================] - 0s 109us/sample\n",
      "Loss: -0.006 (+/- 0.006)\n",
      "-0.006339780158466763\n"
     ]
    }
   ],
   "source": [
    "'''Cross Validate'''\n",
    "#cv_scores = cross_val_score(estimator_rnn, train_X, train_y, cv=9)\n",
    "#print(cv_scores.mean())\n",
    "\n",
    "splits = TimeSeriesSplit(n_splits=9)\n",
    "scores = cross_val_score(estimator_rnn, train_X, train_y, cv=splits, scoring= 'neg_mean_squared_error')\n",
    "print(\"Loss: {0:.3f} (+/- {1:.3f})\".format(scores.mean(), scores.std()))\n",
    "print(scores.mean())"
   ]
  },
  {
   "cell_type": "code",
   "execution_count": 21,
   "metadata": {},
   "outputs": [],
   "source": [
    "# evaluate using 10-fold cross validation\n",
    "\n",
    "#splits = TimeSeriesSplit(n_splits=9)\n",
    "#results = cross_val_score(estimator_rnn, train_X, train_y, cv=splits)\n",
    "#print(results.mean())"
   ]
  },
  {
   "cell_type": "code",
   "execution_count": 22,
   "metadata": {
    "scrolled": true
   },
   "outputs": [
    {
     "name": "stdout",
     "output_type": "stream",
     "text": [
      "4129/4129 [==============================] - 0s 100us/sample - loss: 0.0786 - rpe: 20.7562 - rmse: 0.1423\n",
      "42/42 [==============================] - 0s 48us/sample - loss: 0.1353 - rpe: 12.0347 - rmse: 0.1190\n",
      "412/412 [==============================] - 0s 109us/sample\n",
      "42/42 [==============================] - 0s 24us/sample\n",
      "4129/4129 [==============================] - 0s 88us/sample - loss: 0.1913 - rpe: 28.4041 - rmse: 0.2437\n",
      "105/105 [==============================] - 0s 67us/sample - loss: 0.0613 - rpe: 7.8733 - rmse: 0.0759\n",
      "412/412 [==============================] - 0s 107us/sample\n",
      "105/105 [==============================] - 0s 29us/sample\n",
      "4129/4129 [==============================] - 0s 97us/sample - loss: 0.0292 - rpe: 14.7079 - rmse: 0.0816\n",
      "210/210 [==============================] - 0s 38us/sample - loss: 0.0282 - rpe: 4.1256 - rmse: 0.0398\n",
      "412/412 [==============================] - 0s 95us/sample\n",
      "210/210 [==============================] - 0s 14us/sample\n",
      "4129/4129 [==============================] - 0s 93us/sample - loss: 0.1060 - rpe: 22.4585 - rmse: 0.1688\n",
      "315/315 [==============================] - 0s 35us/sample - loss: 0.0419 - rpe: 8.1510 - rmse: 0.0546\n",
      "412/412 [==============================] - 0s 124us/sample\n",
      "315/315 [==============================] - 0s 25us/sample\n",
      "4129/4129 [==============================] - 0s 93us/sample - loss: 0.1739 - rpe: 28.0744 - rmse: 0.2268\n",
      "421/421 [==============================] - 0s 33us/sample - loss: 0.0493 - rpe: 8.4706 - rmse: 0.0624\n",
      "412/412 [==============================] - 0s 107us/sample\n",
      "421/421 [==============================] - 0s 14us/sample\n",
      "4129/4129 [==============================] - 0s 92us/sample - loss: 0.0316 - rpe: 14.3631 - rmse: 0.0846\n",
      "42/42 [==============================] - 0s 48us/sample - loss: 0.1280 - rpe: 11.9685 - rmse: 0.1184\n",
      "412/412 [==============================] - 0s 103us/sample\n",
      "42/42 [==============================] - 0s 0s/sample\n",
      "4129/4129 [==============================] - 0s 91us/sample - loss: 0.0879 - rpe: 20.5115 - rmse: 0.1521\n",
      "105/105 [==============================] - 0s 57us/sample - loss: 0.0523 - rpe: 7.0357 - rmse: 0.0675\n",
      "412/412 [==============================] - 0s 104us/sample\n",
      "105/105 [==============================] - 0s 29us/sample\n",
      "4129/4129 [==============================] - 0s 87us/sample - loss: 0.0965 - rpe: 22.1143 - rmse: 0.1575\n",
      "210/210 [==============================] - 0s 48us/sample - loss: 0.0284 - rpe: 3.9263 - rmse: 0.0378\n",
      "412/412 [==============================] - 0s 104us/sample\n",
      "210/210 [==============================] - 0s 19us/sample\n",
      "4129/4129 [==============================] - 0s 87us/sample - loss: 0.0165 - rpe: 11.7510 - rmse: 0.0581\n",
      "315/315 [==============================] - 0s 38us/sample - loss: 0.0414 - rpe: 7.8105 - rmse: 0.0508\n",
      "412/412 [==============================] - 0s 104us/sample\n",
      "315/315 [==============================] - 0s 13us/sample\n",
      "4129/4129 [==============================] - 0s 91us/sample - loss: 0.0539 - rpe: 17.6295 - rmse: 0.1154\n",
      "421/421 [==============================] - 0s 31us/sample - loss: 0.0308 - rpe: 6.6632 - rmse: 0.0445\n",
      "412/412 [==============================] - 0s 99us/sample\n",
      "421/421 [==============================] - 0s 12us/sample\n",
      "4129/4129 [==============================] - 0s 89us/sample - loss: 0.0587 - rpe: 17.9783 - rmse: 0.1189\n",
      "42/42 [==============================] - 0s 71us/sample - loss: 0.1251 - rpe: 12.0131 - rmse: 0.1188\n",
      "412/412 [==============================] - 0s 104us/sample\n",
      "42/42 [==============================] - 0s 24us/sample\n",
      "4129/4129 [==============================] - 0s 89us/sample - loss: 0.1080 - rpe: 23.3319 - rmse: 0.1676\n",
      "105/105 [==============================] - 0s 76us/sample - loss: 0.0551 - rpe: 7.2104 - rmse: 0.0693\n",
      "412/412 [==============================] - 0s 102us/sample\n",
      "105/105 [==============================] - 0s 19us/sample\n",
      "4129/4129 [==============================] - 0s 89us/sample - loss: 0.2158 - rpe: 33.3617 - rmse: 0.2599\n",
      "210/210 [==============================] - 0s 48us/sample - loss: 0.0339 - rpe: 4.7458 - rmse: 0.0461\n",
      "412/412 [==============================] - 0s 107us/sample\n",
      "210/210 [==============================] - 0s 14us/sample\n",
      "4129/4129 [==============================] - 0s 95us/sample - loss: 0.0610 - rpe: 19.4884 - rmse: 0.1235\n",
      "315/315 [==============================] - 0s 32us/sample - loss: 0.0557 - rpe: 8.9720 - rmse: 0.0628\n",
      "412/412 [==============================] - 0s 104us/sample\n",
      "315/315 [==============================] - 0s 13us/sample\n",
      "4129/4129 [==============================] - 0s 91us/sample - loss: 0.0307 - rpe: 14.7298 - rmse: 0.0837\n",
      "421/421 [==============================] - 0s 31us/sample - loss: 0.0313 - rpe: 6.7878 - rmse: 0.0458\n",
      "412/412 [==============================] - 0s 104us/sample\n",
      "421/421 [==============================] - 0s 12us/sample\n",
      "4129/4129 [==============================] - 0s 105us/sample - loss: 0.0870 - rpe: 20.7467 - rmse: 0.1487\n",
      "42/42 [==============================] - 0s 48us/sample - loss: 0.1284 - rpe: 12.0453 - rmse: 0.1192\n",
      "412/412 [==============================] - 0s 109us/sample\n",
      "42/42 [==============================] - 0s 23us/sample\n",
      "4129/4129 [==============================] - 0s 103us/sample - loss: 0.1970 - rpe: 30.1569 - rmse: 0.2417\n",
      "105/105 [==============================] - 0s 67us/sample - loss: 0.0582 - rpe: 6.8642 - rmse: 0.0659\n",
      "412/412 [==============================] - 0s 99us/sample\n",
      "105/105 [==============================] - 0s 19us/sample\n",
      "4129/4129 [==============================] - 0s 95us/sample - loss: 0.0748 - rpe: 20.7740 - rmse: 0.1375\n",
      "210/210 [==============================] - 0s 57us/sample - loss: 0.0286 - rpe: 4.1693 - rmse: 0.0403\n",
      "412/412 [==============================] - 0s 102us/sample\n",
      "210/210 [==============================] - 0s 19us/sample\n",
      "4129/4129 [==============================] - 0s 93us/sample - loss: 0.0995 - rpe: 22.2632 - rmse: 0.1623\n",
      "315/315 [==============================] - 0s 35us/sample - loss: 0.0503 - rpe: 9.1679 - rmse: 0.0651\n",
      "412/412 [==============================] - 0s 99us/sample\n",
      "315/315 [==============================] - 0s 13us/sample\n",
      "4129/4129 [==============================] - 0s 87us/sample - loss: 0.1325 - rpe: 25.8094 - rmse: 0.1953\n",
      "421/421 [==============================] - 0s 28us/sample - loss: 0.0382 - rpe: 7.2903 - rmse: 0.0506\n",
      "412/412 [==============================] - 0s 114us/sample\n",
      "421/421 [==============================] - 0s 12us/sample\n",
      "4129/4129 [==============================] - 0s 91us/sample - loss: 0.0942 - rpe: 20.0656 - rmse: 0.1548\n",
      "42/42 [==============================] - 0s 71us/sample - loss: 0.1371 - rpe: 11.7736 - rmse: 0.1164\n",
      "412/412 [==============================] - 0s 99us/sample\n",
      "42/42 [==============================] - 0s 24us/sample\n",
      "4129/4129 [==============================] - 0s 92us/sample - loss: 0.0148 - rpe: 11.7182 - rmse: 0.0528\n",
      "105/105 [==============================] - 0s 57us/sample - loss: 0.0562 - rpe: 8.2972 - rmse: 0.0804\n",
      "412/412 [==============================] - 0s 97us/sample\n",
      "105/105 [==============================] - 0s 19us/sample\n",
      "4129/4129 [==============================] - 0s 88us/sample - loss: 0.1696 - rpe: 25.2887 - rmse: 0.2196\n",
      "210/210 [==============================] - 0s 48us/sample - loss: 0.0271 - rpe: 3.6763 - rmse: 0.0353\n",
      "412/412 [==============================] - 0s 102us/sample\n",
      "210/210 [==============================] - 0s 19us/sample\n",
      "4129/4129 [==============================] - 0s 87us/sample - loss: 0.0311 - rpe: 14.7861 - rmse: 0.0855\n",
      "315/315 [==============================] - 0s 29us/sample - loss: 0.0406 - rpe: 8.2084 - rmse: 0.0550\n",
      "412/412 [==============================] - 0s 97us/sample\n",
      "315/315 [==============================] - 0s 10us/sample\n",
      "4129/4129 [==============================] - 0s 90us/sample - loss: 0.0552 - rpe: 17.3812 - rmse: 0.1163\n",
      "421/421 [==============================] - 0s 33us/sample - loss: 0.0378 - rpe: 6.7417 - rmse: 0.0451\n",
      "412/412 [==============================] - 0s 104us/sample\n",
      "421/421 [==============================] - 0s 14us/sample\n",
      "4129/4129 [==============================] - 0s 106us/sample - loss: 0.0768 - rpe: 20.1181 - rmse: 0.1411\n",
      "42/42 [==============================] - 0s 48us/sample - loss: 0.1447 - rpe: 12.0519 - rmse: 0.1192\n",
      "412/412 [==============================] - 0s 104us/sample\n",
      "42/42 [==============================] - 0s 0s/sample\n",
      "4129/4129 [==============================] - 0s 87us/sample - loss: 0.0934 - rpe: 20.6838 - rmse: 0.1559\n",
      "105/105 [==============================] - 0s 48us/sample - loss: 0.0565 - rpe: 6.7541 - rmse: 0.0646\n",
      "412/412 [==============================] - 0s 97us/sample\n",
      "105/105 [==============================] - 0s 19us/sample\n",
      "4129/4129 [==============================] - 0s 86us/sample - loss: 0.2151 - rpe: 31.7238 - rmse: 0.2601\n",
      "210/210 [==============================] - 0s 38us/sample - loss: 0.0273 - rpe: 3.5861 - rmse: 0.0344\n",
      "412/412 [==============================] - 0s 97us/sample\n",
      "210/210 [==============================] - 0s 19us/sample\n",
      "4129/4129 [==============================] - 0s 85us/sample - loss: 0.0274 - rpe: 14.0834 - rmse: 0.0785\n",
      "315/315 [==============================] - 0s 32us/sample - loss: 0.0404 - rpe: 8.5371 - rmse: 0.0584\n",
      "412/412 [==============================] - 0s 97us/sample\n",
      "315/315 [==============================] - 0s 10us/sample\n",
      "4129/4129 [==============================] - 0s 91us/sample - loss: 0.0778 - rpe: 20.7029 - rmse: 0.1409\n",
      "421/421 [==============================] - 0s 33us/sample - loss: 0.0350 - rpe: 7.0426 - rmse: 0.0483\n",
      "412/412 [==============================] - 0s 97us/sample\n",
      "421/421 [==============================] - 0s 9us/sample\n",
      "4129/4129 [==============================] - 0s 92us/sample - loss: 0.1836 - rpe: 31.0000 - rmse: 0.2424\n",
      "42/42 [==============================] - 0s 48us/sample - loss: 0.1628 - rpe: 12.7356 - rmse: 0.1261\n",
      "412/412 [==============================] - 0s 97us/sample\n",
      "42/42 [==============================] - 0s 0s/sample\n",
      "4129/4129 [==============================] - 0s 86us/sample - loss: 0.0576 - rpe: 18.1759 - rmse: 0.1203\n",
      "105/105 [==============================] - 0s 48us/sample - loss: 0.0550 - rpe: 8.4581 - rmse: 0.0819\n",
      "412/412 [==============================] - 0s 96us/sample\n",
      "105/105 [==============================] - 0s 19us/sample\n",
      "4129/4129 [==============================] - 0s 95us/sample - loss: 0.0525 - rpe: 17.1019 - rmse: 0.1115\n",
      "210/210 [==============================] - 0s 52us/sample - loss: 0.0265 - rpe: 3.8167 - rmse: 0.0367\n",
      "412/412 [==============================] - 0s 109us/sample\n",
      "210/210 [==============================] - 0s 19us/sample\n",
      "4129/4129 [==============================] - 0s 95us/sample - loss: 0.1324 - rpe: 26.2840 - rmse: 0.1923\n",
      "315/315 [==============================] - 0s 35us/sample - loss: 0.0503 - rpe: 9.1347 - rmse: 0.0645\n",
      "412/412 [==============================] - 0s 97us/sample\n",
      "315/315 [==============================] - 0s 13us/sample\n",
      "4129/4129 [==============================] - 0s 89us/sample - loss: 0.1218 - rpe: 25.0256 - rmse: 0.1839\n",
      "421/421 [==============================] - 0s 38us/sample - loss: 0.0382 - rpe: 6.9194 - rmse: 0.0470\n",
      "412/412 [==============================] - 0s 95us/sample\n",
      "421/421 [==============================] - 0s 12us/sample\n",
      "4129/4129 [==============================] - 0s 87us/sample - loss: 0.1621 - rpe: 28.4924 - rmse: 0.2156\n",
      "42/42 [==============================] - 0s 24us/sample - loss: 0.1802 - rpe: 13.6888 - rmse: 0.1355\n",
      "412/412 [==============================] - 0s 97us/sample\n",
      "42/42 [==============================] - 0s 0s/sample\n",
      "4129/4129 [==============================] - 0s 84us/sample - loss: 0.0949 - rpe: 22.0424 - rmse: 0.1555\n",
      "105/105 [==============================] - 0s 48us/sample - loss: 0.0771 - rpe: 8.7093 - rmse: 0.0844\n",
      "412/412 [==============================] - 0s 97us/sample\n",
      "105/105 [==============================] - 0s 19us/sample\n",
      "4129/4129 [==============================] - 0s 95us/sample - loss: 0.0806 - rpe: 20.9012 - rmse: 0.1434\n",
      "210/210 [==============================] - 0s 52us/sample - loss: 0.0314 - rpe: 3.7507 - rmse: 0.0361\n",
      "412/412 [==============================] - 0s 97us/sample\n",
      "210/210 [==============================] - 0s 14us/sample\n",
      "4129/4129 [==============================] - 0s 94us/sample - loss: 0.2571 - rpe: 35.6394 - rmse: 0.2913\n",
      "315/315 [==============================] - 0s 41us/sample - loss: 0.0498 - rpe: 8.8337 - rmse: 0.0614\n",
      "412/412 [==============================] - 0s 112us/sample\n",
      "315/315 [==============================] - 0s 19us/sample\n",
      "4129/4129 [==============================] - 0s 98us/sample - loss: 0.2815 - rpe: 36.5382 - rmse: 0.3060\n",
      "421/421 [==============================] - 0s 31us/sample - loss: 0.0490 - rpe: 8.4670 - rmse: 0.0627\n",
      "412/412 [==============================] - 0s 118us/sample\n",
      "421/421 [==============================] - 0s 19us/sample\n",
      "4129/4129 [==============================] - 0s 86us/sample - loss: 0.1303 - rpe: 26.7382 - rmse: 0.1940\n",
      "42/42 [==============================] - 0s 95us/sample - loss: 0.1990 - rpe: 16.6532 - rmse: 0.1652\n",
      "412/412 [==============================] - 0s 99us/sample\n",
      "42/42 [==============================] - 0s 24us/sample\n",
      "4129/4129 [==============================] - 0s 93us/sample - loss: 0.0771 - rpe: 20.8067 - rmse: 0.1412\n",
      "105/105 [==============================] - 0s 57us/sample - loss: 0.0581 - rpe: 7.4589 - rmse: 0.0719\n",
      "412/412 [==============================] - 0s 90us/sample\n",
      "105/105 [==============================] - 0s 38us/sample\n",
      "4129/4129 [==============================] - 0s 95us/sample - loss: 0.1016 - rpe: 23.0550 - rmse: 0.1643\n",
      "210/210 [==============================] - 0s 38us/sample - loss: 0.0272 - rpe: 3.5728 - rmse: 0.0342\n",
      "412/412 [==============================] - 0s 107us/sample\n",
      "210/210 [==============================] - 0s 14us/sample\n",
      "4129/4129 [==============================] - 0s 105us/sample - loss: 0.1716 - rpe: 30.0728 - rmse: 0.2278\n",
      "315/315 [==============================] - 0s 38us/sample - loss: 0.0552 - rpe: 9.3128 - rmse: 0.0663\n",
      "412/412 [==============================] - 0s 97us/sample\n",
      "315/315 [==============================] - 0s 10us/sample\n",
      "4129/4129 [==============================] - 0s 97us/sample - loss: 0.1847 - rpe: 28.5746 - rmse: 0.2368\n",
      "421/421 [==============================] - 0s 40us/sample - loss: 0.0415 - rpe: 7.6926 - rmse: 0.0547\n",
      "412/412 [==============================] - 0s 107us/sample\n",
      "421/421 [==============================] - 0s 14us/sample\n"
     ]
    }
   ],
   "source": [
    "train_sizes, train_loss, test_loss= learning_curve(\n",
    "       estimator_rnn, train_X, train_y, cv=splits, scoring='neg_mean_squared_error',\n",
    "        train_sizes=[0.1, 0.25, 0.5, 0.75, 1])"
   ]
  },
  {
   "cell_type": "code",
   "execution_count": 28,
   "metadata": {},
   "outputs": [
    {
     "data": {
      "image/png": "[encoded data removed]",
      "text/plain": [
       "<Figure size 432x288 with 1 Axes>"
      ]
     },
     "metadata": {
      "needs_background": "light"
     },
     "output_type": "display_data"
    }
   ],
   "source": [
    "train_loss_mean = np.mean(train_loss, axis=1)\n",
    "train_loss_std = np.std(train_loss, axis=1)\n",
    "test_loss_mean = np.mean(test_loss, axis=1)\n",
    "test_loss_std = np.std(test_loss, axis=1)\n",
    "plt.grid()\n",
    "\n",
    "plt.fill_between(train_sizes, train_loss_mean - train_loss_std,\n",
    "                     train_loss_mean + train_loss_std, alpha=0.1,\n",
    "                     color=\"r\")\n",
    "plt.fill_between(train_sizes, test_loss_mean - test_loss_std,\n",
    "                     test_loss_mean + test_loss_std, alpha=0.1, color=\"g\")\n",
    "plt.plot(train_sizes, train_loss_mean, 'o-', color=\"r\",\n",
    "             label=\"Training score\")\n",
    "plt.plot(train_sizes, test_loss_mean, 'o-', color=\"g\",\n",
    "             label=\"Cross-validation score\")\n",
    "\n",
    "plt.legend(loc=\"best\")\n",
    "plt.show()"
   ]
  },
  {
   "cell_type": "code",
   "execution_count": 30,
   "metadata": {},
   "outputs": [
    {
     "data": {
      "image/png": "[encoded data removed]",
      "text/plain": [
       "<Figure size 432x288 with 1 Axes>"
      ]
     },
     "metadata": {
      "needs_background": "light"
     },
     "output_type": "display_data"
    }
   ],
   "source": [
    "\"\"\" train and test loss mean and standard deviation\"\"\"\n",
    "\n",
    "train_loss_mean = -np.mean(train_loss, axis=1)\n",
    "train_loss_std = -np.std(train_loss, axis=1)\n",
    "test_loss_mean = -np.mean(test_loss, axis=1)\n",
    "test_loss_std = -np.std(test_loss, axis=1)\n",
    "plt.grid()\n",
    "\n",
    "\n",
    "plt.fill_between(train_sizes, train_loss_mean - train_loss_std,\n",
    "                     train_loss_mean + train_loss_std, alpha=0.1,\n",
    "                     color=\"r\")\n",
    "plt.fill_between(train_sizes, test_loss_mean - test_loss_std,\n",
    "                     test_loss_mean + test_loss_std, alpha=0.1, color=\"g\")\n",
    "plt.plot(train_sizes, train_loss_mean, 'o-', color=\"r\",\n",
    "             label=\"Training score\")\n",
    "plt.plot(train_sizes, test_loss_mean, 'o-', color=\"g\",\n",
    "             label=\"Cross-validation score\")\n",
    "\n",
    "plt.xlabel(\"Training example\")\n",
    "plt.ylabel(\"Loss\")\n",
    "plt.legend(loc=\"best\")\n",
    "plt.title('Learning Curve_RNN model')\n",
    "plt.show()"
   ]
  },
  {
   "cell_type": "code",
   "execution_count": null,
   "metadata": {},
   "outputs": [],
   "source": []
  },
  {
   "cell_type": "code",
   "execution_count": null,
   "metadata": {},
   "outputs": [],
   "source": []
  }
 ],
 "metadata": {
  "kernelspec": {
   "display_name": "Python 3",
   "language": "python",
   "name": "python3"
  },
  "language_info": {
   "codemirror_mode": {
    "name": "ipython",
    "version": 3
   },
   "file_extension": ".py",
   "mimetype": "text/x-python",
   "name": "python",
   "nbconvert_exporter": "python",
   "pygments_lexer": "ipython3",
   "version": "3.8.5"
  }
 },
 "nbformat": 4,
 "nbformat_minor": 2
}
