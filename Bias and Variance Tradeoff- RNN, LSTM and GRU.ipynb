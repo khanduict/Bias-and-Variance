{
 "cells": [
  {
   "cell_type": "code",
   "execution_count": 1,
   "metadata": {},
   "outputs": [
    {
     "name": "stdout",
     "output_type": "stream",
     "text": [
      "Tensorflow: 2.0.0-alpha0\n"
     ]
    },
    {
     "name": "stderr",
     "output_type": "stream",
     "text": [
      "Using TensorFlow backend.\n"
     ]
    }
   ],
   "source": [
    "import numpy as np\n",
    "import pandas as pd\n",
    "\n",
    "from sklearn.model_selection import GridSearchCV\n",
    "from sklearn.preprocessing import MinMaxScaler\n",
    "import matplotlib.pyplot as plt\n",
    "%matplotlib inline\n",
    "from matplotlib.ticker import MaxNLocator\n",
    "#import seaborn as sns\n",
    "from sklearn.metrics import mean_squared_error, mean_squared_log_error, explained_variance_score\n",
    "from sklearn.model_selection import learning_curve, validation_curve\n",
    "\n",
    "from tensorflow.keras.callbacks import TensorBoard, EarlyStopping\n",
    "from tensorflow.keras import callbacks\n",
    "from tensorflow.keras import backend as K\n",
    "from keras.layers.advanced_activations import LeakyReLU\n",
    "from tensorflow.keras import backend\n",
    "import os\n",
    "from pandas import DataFrame\n",
    "from numpy import concatenate\n",
    "\n",
    "import tensorflow as tf\n",
    "print(\"Tensorflow:\", tf.__version__)\n",
    "from tensorflow.keras.models import Sequential\n",
    "from tensorflow.keras.layers import Dense, LSTM, SimpleRNN, BatchNormalization, Activation, Dropout, LeakyReLU, PReLU\n",
    "from tensorflow.keras.wrappers.scikit_learn import KerasClassifier\n",
    "\n",
    "\n",
    "from sklearn.model_selection import GridSearchCV\n",
    "from tensorflow.keras.wrappers.scikit_learn import KerasClassifier\n",
    "import datetime\n",
    "from math import sqrt\n",
    "from sklearn.model_selection import TimeSeriesSplit, LeaveOneOut, KFold\n",
    "from keras.wrappers.scikit_learn import KerasRegressor\n",
    "from sklearn.model_selection import ShuffleSplit\n",
    "from sklearn.metrics import f1_score, mean_squared_log_error\n",
    "import statistics\n",
    "from sklearn.datasets import load_digits\n",
    "from sklearn.model_selection import cross_val_score\n",
    "from sklearn.model_selection import StratifiedKFold"
   ]
  },
  {
   "cell_type": "code",
   "execution_count": 2,
   "metadata": {},
   "outputs": [],
   "source": [
    "np.random.seed(7)"
   ]
  },
  {
   "cell_type": "code",
   "execution_count": 3,
   "metadata": {},
   "outputs": [],
   "source": [
    "#************************RPE (Relative Percentage Error)*****************************\n",
    "def rpe(y_true, y_pred):\n",
    "    return backend.abs((y_pred - y_true)/y_true * 100)"
   ]
  },
  {
   "cell_type": "code",
   "execution_count": 4,
   "metadata": {},
   "outputs": [],
   "source": [
    "#*********************** (Root Mean Sequare Error metrics)********************************\n",
    "def rmse(y_true, y_pred):\n",
    "    return backend.sqrt(backend.mean(backend.square(y_pred - y_true), axis=-1))"
   ]
  },
  {
   "cell_type": "code",
   "execution_count": 5,
   "metadata": {},
   "outputs": [],
   "source": [
    "#*******************************Load data***************************************\n",
    "data_raw = []\n",
    "for week in range(1, 11):\n",
    "    week_data = pd.read_csv('../Paper1/TUCspam{}.csv'.format(week)).values\n",
    "    data_raw.append(week_data)"
   ]
  },
  {
   "cell_type": "code",
   "execution_count": 6,
   "metadata": {},
   "outputs": [
    {
     "data": {
      "text/plain": [
       "(10,)"
      ]
     },
     "execution_count": 6,
     "metadata": {},
     "output_type": "execute_result"
    }
   ],
   "source": [
    "data = np.array(data_raw)\n",
    "data.shape"
   ]
  },
  {
   "cell_type": "markdown",
   "metadata": {},
   "source": [
    "# Time series split"
   ]
  },
  {
   "cell_type": "code",
   "execution_count": 7,
   "metadata": {},
   "outputs": [
    {
     "name": "stdout",
     "output_type": "stream",
     "text": [
      "Train: [0] \t Test: [1]\n",
      "Train: [0 1] \t Test: [2]\n",
      "Train: [0 1 2] \t Test: [3]\n",
      "Train: [0 1 2 3] \t Test: [4]\n",
      "Train: [0 1 2 3 4] \t Test: [5]\n",
      "Train: [0 1 2 3 4 5] \t Test: [6]\n",
      "Train: [0 1 2 3 4 5 6] \t Test: [7]\n",
      "Train: [0 1 2 3 4 5 6 7] \t Test: [8]\n",
      "Train: [0 1 2 3 4 5 6 7 8] \t Test: [9]\n"
     ]
    }
   ],
   "source": [
    "X = [1,2,3,4,5,6,7,8,9,10]\n",
    "\n",
    "splits = TimeSeriesSplit(n_splits=9)\n",
    "for train, test in splits.split(X):\n",
    "    print('Train: {} \\t Test: {}'.format(train, test))"
   ]
  },
  {
   "cell_type": "code",
   "execution_count": 8,
   "metadata": {},
   "outputs": [
    {
     "name": "stdout",
     "output_type": "stream",
     "text": [
      "(428, 1) (669, 1)\n",
      "(1097, 1) (349, 1)\n",
      "(1446, 1) (480, 1)\n",
      "(1926, 1) (341, 1)\n",
      "(2267, 1) (572, 1)\n",
      "(2839, 1) (434, 1)\n",
      "(3273, 1) (511, 1)\n",
      "(3784, 1) (349, 1)\n",
      "(4133, 1) (421, 1)\n"
     ]
    }
   ],
   "source": [
    "index = 1\n",
    "splits = TimeSeriesSplit(n_splits=9)\n",
    "for train_index, test_index in splits.split(data):\n",
    "    data_train= data[train_index]\n",
    "    data_test = data [test_index]\n",
    "    data_train = np.concatenate(data_train)\n",
    "    data_test = np.concatenate (data_test)\n",
    "    print (data_train.shape, data_test.shape)"
   ]
  },
  {
   "cell_type": "code",
   "execution_count": null,
   "metadata": {},
   "outputs": [],
   "source": []
  },
  {
   "cell_type": "code",
   "execution_count": 9,
   "metadata": {},
   "outputs": [],
   "source": [
    "#****************************Create lagged time series dataset*******************\n",
    "look_back=3\n",
    "\n",
    "def prepare_seq2seq_data(dataset, look_back=1):\n",
    "\n",
    "    dataX, dataY = [], []\n",
    "    for i in range(len(dataset)-look_back-1):\n",
    "        a = dataset[i:(i+look_back), 0]\n",
    "        dataX.append(a)\n",
    "        dataY.append(dataset[i + look_back, 0])\n",
    "    return np.array(dataX), np.array(dataY)"
   ]
  },
  {
   "cell_type": "code",
   "execution_count": 10,
   "metadata": {},
   "outputs": [],
   "source": [
    "data_train= data_train.astype('float32')\n",
    "data_test = data_test.astype('float32')\n",
    "    \n",
    "scaler = MinMaxScaler (feature_range= (-1,1)) \n",
    "train_scaled = scaler.fit_transform (data_train)\n",
    "test_scaled = scaler.transform(data_test)"
   ]
  },
  {
   "cell_type": "code",
   "execution_count": 11,
   "metadata": {},
   "outputs": [],
   "source": [
    "look_back = 3\n",
    "train_X, train_y = prepare_seq2seq_data(train_scaled, look_back)\n",
    "test_X, test_y = prepare_seq2seq_data(test_scaled, look_back)"
   ]
  },
  {
   "cell_type": "code",
   "execution_count": 12,
   "metadata": {},
   "outputs": [
    {
     "name": "stdout",
     "output_type": "stream",
     "text": [
      "(4129, 3, 1) (4129,) (417, 3, 1) (417,)\n"
     ]
    }
   ],
   "source": [
    "train_X = np.reshape(train_X,(train_X.shape[0], train_X.shape[1], 1))\n",
    "test_X = np.reshape(test_X,(test_X.shape[0], test_X.shape[1], 1))\n",
    "print (train_X.shape,train_y.shape, test_X.shape, test_y.shape)"
   ]
  },
  {
   "cell_type": "code",
   "execution_count": 13,
   "metadata": {},
   "outputs": [],
   "source": [
    "#************************RPE (Relative Percentage Error)*****************************\n",
    "\n",
    "def rpe(y_true, y_pred):\n",
    "    return backend.abs((y_pred - y_true)/y_true * 100)"
   ]
  },
  {
   "cell_type": "code",
   "execution_count": 14,
   "metadata": {},
   "outputs": [],
   "source": [
    "def get_score(model, train_X, test_X,train_y, test_y):\n",
    "    model.fit(train_X, train_y)\n",
    "    return model.score(test_X, test_y)"
   ]
  },
  {
   "cell_type": "code",
   "execution_count": 15,
   "metadata": {
    "scrolled": false
   },
   "outputs": [
    {
     "name": "stdout",
     "output_type": "stream",
     "text": [
      "4129/4129 [==============================] - 0s 101us/sample - loss: 0.0244 - rpe: 13.9452 - rmse: 0.0719\n",
      "\n"
     ]
    },
    {
     "name": "stderr",
     "output_type": "stream",
     "text": [
      "c:\\users\\31950627\\kerast\\lib\\site-packages\\ipykernel_launcher.py:31: RuntimeWarning: divide by zero encountered in double_scalars\n"
     ]
    },
    {
     "name": "stdout",
     "output_type": "stream",
     "text": [
      "4129/4129 [==============================] - 1s 149us/sample - loss: 0.4463 - rpe: 67.6518 - rmse: 0.6477\n",
      "\n"
     ]
    },
    {
     "name": "stderr",
     "output_type": "stream",
     "text": [
      "c:\\users\\31950627\\kerast\\lib\\site-packages\\ipykernel_launcher.py:56: RuntimeWarning: divide by zero encountered in double_scalars\n"
     ]
    },
    {
     "name": "stdout",
     "output_type": "stream",
     "text": [
      "4129/4129 [==============================] - 1s 151us/sample - loss: 0.5075 - rpe: 68.8988 - rmse: 0.6703\n",
      "\n"
     ]
    },
    {
     "name": "stderr",
     "output_type": "stream",
     "text": [
      "c:\\users\\31950627\\kerast\\lib\\site-packages\\ipykernel_launcher.py:81: RuntimeWarning: divide by zero encountered in double_scalars\n"
     ]
    },
    {
     "name": "stdout",
     "output_type": "stream",
     "text": [
      "4129/4129 [==============================] - 0s 97us/sample - loss: 0.2113 - rpe: 32.4968 - rmse: 0.2555\n",
      "\n",
      "4129/4129 [==============================] - 1s 148us/sample - loss: 0.5530 - rpe: 74.6176 - rmse: 0.7264\n",
      "\n",
      "4129/4129 [==============================] - 1s 151us/sample - loss: 0.4092 - rpe: 63.2193 - rmse: 0.5896\n",
      "\n",
      "4129/4129 [==============================] - 0s 97us/sample - loss: 0.0309 - rpe: 14.6189 - rmse: 0.0831\n",
      "\n",
      "4129/4129 [==============================] - 1s 158us/sample - loss: 0.4670 - rpe: 68.6927 - rmse: 0.6605\n",
      "\n",
      "4129/4129 [==============================] - 1s 159us/sample - loss: 0.4346 - rpe: 63.7753 - rmse: 0.6164\n",
      "\n",
      "4129/4129 [==============================] - 0s 94us/sample - loss: 0.0833 - rpe: 20.9948 - rmse: 0.1487\n",
      "\n",
      "4129/4129 [==============================] - 1s 165us/sample - loss: 0.3910 - rpe: 62.8432 - rmse: 0.6023\n",
      "\n",
      "4129/4129 [==============================] - 1s 152us/sample - loss: 0.4385 - rpe: 66.0616 - rmse: 0.6200\n",
      "\n",
      "4129/4129 [==============================] - 0s 92us/sample - loss: 0.1247 - rpe: 23.7230 - rmse: 0.1889\n",
      "\n",
      "4129/4129 [==============================] - 1s 158us/sample - loss: 0.5802 - rpe: 77.1230 - rmse: 0.7456\n",
      "\n",
      "4129/4129 [==============================] - 1s 153us/sample - loss: 0.3325 - rpe: 55.8506 - rmse: 0.5234\n",
      "\n",
      "4129/4129 [==============================] - 0s 96us/sample - loss: 0.0371 - rpe: 16.0447 - rmse: 0.0936\n",
      "\n",
      "4129/4129 [==============================] - 1s 149us/sample - loss: 0.4688 - rpe: 69.9410 - rmse: 0.6659\n",
      "\n",
      "4129/4129 [==============================] - 1s 153us/sample - loss: 0.2644 - rpe: 48.5253 - rmse: 0.4588\n",
      "\n",
      "4129/4129 [==============================] - 0s 100us/sample - loss: 0.3787 - rpe: 43.5814 - rmse: 0.3727\n",
      "\n",
      "4129/4129 [==============================] - 1s 153us/sample - loss: 0.6238 - rpe: 80.4792 - rmse: 0.7745\n",
      "\n",
      "4129/4129 [==============================] - 1s 152us/sample - loss: 0.6205 - rpe: 79.1844 - rmse: 0.7552\n",
      "\n",
      "4129/4129 [==============================] - 0s 98us/sample - loss: 0.0934 - rpe: 22.7584 - rmse: 0.1594\n",
      "\n",
      "4129/4129 [==============================] - 1s 152us/sample - loss: 0.5685 - rpe: 75.8591 - rmse: 0.7356\n",
      "\n",
      "4129/4129 [==============================] - 1s 155us/sample - loss: 0.3246 - rpe: 55.3713 - rmse: 0.5186\n",
      "\n",
      "4129/4129 [==============================] - 0s 93us/sample - loss: 0.0456 - rpe: 16.9627 - rmse: 0.1051\n",
      "\n",
      "4129/4129 [==============================] - 1s 150us/sample - loss: 0.5146 - rpe: 72.3946 - rmse: 0.6990\n",
      "\n",
      "4129/4129 [==============================] - 1s 153us/sample - loss: 0.5062 - rpe: 69.3611 - rmse: 0.6691\n",
      "\n"
     ]
    }
   ],
   "source": [
    "error_rnn=[]\n",
    "bias_rnn= []\n",
    "error_lstm=[]\n",
    "bias_lstm=[]\n",
    "error_gru=[]\n",
    "bias_gru=[]\n",
    "variance_all=[]\n",
    "\n",
    "n_splits=9\n",
    "\n",
    "\n",
    "splits = TimeSeriesSplit(n_splits=9)\n",
    "for train_index, test_index in splits.split(data):\n",
    "    \n",
    "    \n",
    "    #RNN model\n",
    "    \n",
    "    model_rnn = tf.keras.Sequential([\n",
    "    tf.keras.layers.SimpleRNN(128, input_shape=(look_back, 1)),\n",
    "    tf.keras.layers.Dense(1)\n",
    "    ])\n",
    "    optimizer = tf.keras.optimizers.Adam(lr=0.0001)\n",
    "    model_rnn.compile(loss='mse', optimizer=optimizer, metrics=[rpe, rmse])\n",
    "     # fit the model or train on data\n",
    "    model_rnn.fit (train_X, train_y)\n",
    "    # test score\n",
    "    testPredict_rnn = model_rnn.predict(test_X)\n",
    "    error_rnn.append(mean_squared_error(test_y, testPredict_rnn, multioutput= 'uniform_average'))\n",
    "    print()\n",
    "    # Bias\n",
    "    bias_rnn.append(sum(error_rnn)/(len(error_rnn)-1))\n",
    "    #bias1.append((sum(error1)/(len(error1)-1))**2)\n",
    "    \n",
    "    #Variance\n",
    "    variance_rnn=[]\n",
    "    for i in error_rnn:\n",
    "        a = np.square(i -np.mean(error_rnn))\n",
    "        variance_rnn.append(a)\n",
    "    variance_all.append((sum(variance_rnn))/(n_splits-1))\n",
    "\n",
    "\n",
    "   #LSTM model\n",
    "    model_lstm = tf.keras.Sequential([\n",
    "    tf.keras.layers.LSTM(128, input_shape=(look_back, 1)),\n",
    "    tf.keras.layers.Dense(1)\n",
    "    ])\n",
    "    optimizer = tf.keras.optimizers.Adam(lr=0.0001)\n",
    "    model_lstm.compile(loss='mse', optimizer=optimizer, metrics=[rpe, rmse])\n",
    "    # fit the model or train on data\n",
    "    model_lstm.fit (train_X, train_y)\n",
    "    # test score\n",
    "    testPredict_lstm = model_lstm.predict(test_X)\n",
    "    error_lstm.append(mean_squared_error(test_y, testPredict_lstm, multioutput= 'uniform_average'))\n",
    "    print()\n",
    "    # Bias\n",
    "    bias_lstm.append(sum(error_lstm)/(len(error_lstm)-1))\n",
    "    #bias1.append((sum(error1)/(len(error1)-1))**2) \n",
    "    \n",
    "    #Variance\n",
    "    variance_lstm=[]\n",
    "    for i in error_lstm:\n",
    "        a = np.square(i -np.mean(error_lstm))\n",
    "        variance_lstm.append(a)\n",
    "    variance_all.append((sum(variance_lstm))/(n_splits-1))\n",
    "    \n",
    "    \n",
    "     #GRU model\n",
    "    model_gru = tf.keras.Sequential([\n",
    "    tf.keras.layers.GRU(128, input_shape=(look_back, 1)),\n",
    "    tf.keras.layers.Dense(1)\n",
    "    ])\n",
    "    optimizer = tf.keras.optimizers.Adam(lr=0.0001)\n",
    "    model_gru.compile(loss='mse', optimizer=optimizer, metrics=[rpe, rmse])\n",
    "    # fit the model or train on data\n",
    "    model_gru.fit (train_X, train_y)\n",
    "    # test score\n",
    "    testPredict_gru = model_gru.predict(test_X)\n",
    "    error_gru.append(mean_squared_error(test_y, testPredict_gru, multioutput= 'uniform_average'))\n",
    "    print()\n",
    "    # Bias\n",
    "    bias_gru.append(sum(error_gru)/(len(error_gru)-1))\n",
    "    #bias1.append((sum(error1)/(len(error1)-1))**2) \n",
    "    \n",
    "    #Variance\n",
    "    variance_gru=[]\n",
    "    for i in error_gru:\n",
    "        a = np.square(i -np.mean(error_gru))\n",
    "        variance_gru.append(a)\n",
    "    variance_all.append((sum(variance_gru))/(n_splits-1))"
   ]
  },
  {
   "cell_type": "markdown",
   "metadata": {},
   "source": [
    "# Bias and variance "
   ]
  },
  {
   "cell_type": "code",
   "execution_count": null,
   "metadata": {},
   "outputs": [],
   "source": []
  },
  {
   "cell_type": "code",
   "execution_count": 31,
   "metadata": {
    "scrolled": false
   },
   "outputs": [
    {
     "data": {
      "image/png": "[encoded data removed]",
      "text/plain": [
       "<Figure size 432x288 with 1 Axes>"
      ]
     },
     "metadata": {
      "needs_background": "light"
     },
     "output_type": "display_data"
    }
   ],
   "source": [
    "b = plt.plot( bias_rnn)\n",
    "v= plt.plot( variance_rnn)\n",
    "plt.title('Bias and variance wrt to model complexity')\n",
    "plt.xlabel(' Increasing model complexity')\n",
    "plt.ylabel('normalized score')\n",
    "plt.legend((b[0], v[0]), ('Bias^2', 'Variance'))\n",
    "plt.show()"
   ]
  },
  {
   "cell_type": "code",
   "execution_count": 30,
   "metadata": {},
   "outputs": [
    {
     "data": {
      "image/png": "[encoded data removed]",
      "text/plain": [
       "<Figure size 432x288 with 1 Axes>"
      ]
     },
     "metadata": {
      "needs_background": "light"
     },
     "output_type": "display_data"
    }
   ],
   "source": [
    "b = plt.plot( bias_lstm )\n",
    "v= plt.plot( variance_lstm)\n",
    "\n",
    "plt.title('Bias and variance wrt to model complexity')\n",
    "plt.xlabel(' Increasing model complexity')\n",
    "plt.ylabel('normalized score')\n",
    "plt.legend((b[0], v[0]), ('Bias^2', 'Variance'))\n",
    "plt.show()"
   ]
  },
  {
   "cell_type": "code",
   "execution_count": 29,
   "metadata": {},
   "outputs": [
    {
     "data": {
      "image/png": "[encoded data removed]",
      "text/plain": [
       "<Figure size 432x288 with 1 Axes>"
      ]
     },
     "metadata": {
      "needs_background": "light"
     },
     "output_type": "display_data"
    }
   ],
   "source": [
    "b = plt.plot( bias_gru)\n",
    "v= plt.plot( variance_gru)\n",
    "plt.title('Bias and variance wrt to model complexity')\n",
    "plt.xlabel(' Increasing model complexity')\n",
    "plt.ylabel('normalized score')\n",
    "plt.legend((b[0], v[0]), ('Bias^2', 'Variance'))\n",
    "plt.show()"
   ]
  },
  {
   "cell_type": "code",
   "execution_count": null,
   "metadata": {},
   "outputs": [],
   "source": []
  },
  {
   "cell_type": "code",
   "execution_count": null,
   "metadata": {},
   "outputs": [],
   "source": []
  },
  {
   "cell_type": "code",
   "execution_count": null,
   "metadata": {},
   "outputs": [],
   "source": []
  },
  {
   "cell_type": "code",
   "execution_count": null,
   "metadata": {},
   "outputs": [],
   "source": []
  }
 ],
 "metadata": {
  "kernelspec": {
   "display_name": "Python 3",
   "language": "python",
   "name": "python3"
  },
  "language_info": {
   "codemirror_mode": {
    "name": "ipython",
    "version": 3
   },
   "file_extension": ".py",
   "mimetype": "text/x-python",
   "name": "python",
   "nbconvert_exporter": "python",
   "pygments_lexer": "ipython3",
   "version": "3.8.5"
  }
 },
 "nbformat": 4,
 "nbformat_minor": 2
}
