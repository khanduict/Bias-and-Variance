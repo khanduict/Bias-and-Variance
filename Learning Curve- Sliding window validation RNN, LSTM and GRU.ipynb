{
 "cells": [
  {
   "cell_type": "code",
   "execution_count": 1,
   "metadata": {},
   "outputs": [
    {
     "name": "stdout",
     "output_type": "stream",
     "text": [
      "Tensorflow: 2.0.0-alpha0\n"
     ]
    },
    {
     "name": "stderr",
     "output_type": "stream",
     "text": [
      "Using TensorFlow backend.\n"
     ]
    }
   ],
   "source": [
    "import numpy as np\n",
    "import pandas as pd\n",
    "\n",
    "from sklearn.model_selection import GridSearchCV\n",
    "from sklearn.preprocessing import MinMaxScaler\n",
    "import matplotlib.pyplot as plt\n",
    "%matplotlib inline\n",
    "from matplotlib.ticker import MaxNLocator\n",
    "#import seaborn as sns\n",
    "from sklearn.metrics import mean_squared_error, mean_squared_log_error, explained_variance_score\n",
    "from sklearn.model_selection import learning_curve, validation_curve\n",
    "\n",
    "from tensorflow.keras.callbacks import TensorBoard, EarlyStopping\n",
    "from tensorflow.keras import callbacks\n",
    "from tensorflow.keras import backend as K\n",
    "from keras.layers.advanced_activations import LeakyReLU\n",
    "from tensorflow.keras import backend\n",
    "import os\n",
    "from pandas import DataFrame\n",
    "from numpy import concatenate\n",
    "\n",
    "import tensorflow as tf\n",
    "print(\"Tensorflow:\", tf.__version__)\n",
    "from tensorflow.keras.models import Sequential\n",
    "from tensorflow.keras.layers import Dense, LSTM, SimpleRNN, BatchNormalization, Activation, Dropout, LeakyReLU, PReLU\n",
    "from tensorflow.keras.wrappers.scikit_learn import KerasClassifier\n",
    "\n",
    "\n",
    "from sklearn.model_selection import GridSearchCV\n",
    "from tensorflow.keras.wrappers.scikit_learn import KerasClassifier\n",
    "import datetime\n",
    "from math import sqrt\n",
    "from sklearn.model_selection import TimeSeriesSplit, LeaveOneOut, KFold\n",
    "from keras.wrappers.scikit_learn import KerasRegressor\n",
    "from sklearn.model_selection import ShuffleSplit\n",
    "from sklearn.metrics import f1_score\n",
    "import statistics\n",
    "from sklearn.datasets import load_digits\n",
    "from sklearn.model_selection import cross_val_score\n",
    "from sklearn.model_selection import StratifiedKFold"
   ]
  },
  {
   "cell_type": "code",
   "execution_count": 2,
   "metadata": {},
   "outputs": [],
   "source": [
    "np.random.seed(7)"
   ]
  },
  {
   "cell_type": "code",
   "execution_count": 3,
   "metadata": {},
   "outputs": [],
   "source": [
    "#************************RPE (Relative Percentage Error)*****************************\n",
    "def rpe(y_true, y_pred):\n",
    "    return backend.abs((y_pred - y_true)/y_true * 100)"
   ]
  },
  {
   "cell_type": "code",
   "execution_count": 4,
   "metadata": {},
   "outputs": [],
   "source": [
    "#*********************** (Root Mean Sequare Error metrics)********************************\n",
    "def rmse(y_true, y_pred):\n",
    "    return backend.sqrt(backend.mean(backend.square(y_pred - y_true), axis=-1))"
   ]
  },
  {
   "cell_type": "code",
   "execution_count": 5,
   "metadata": {},
   "outputs": [],
   "source": [
    "#*******************************Load data***************************************\n",
    "data_raw = []\n",
    "for week in range(1, 11):\n",
    "    week_data = pd.read_csv('../Paper1/TUCspam{}.csv'.format(week)).values\n",
    "    data_raw.append(week_data)"
   ]
  },
  {
   "cell_type": "code",
   "execution_count": 6,
   "metadata": {},
   "outputs": [
    {
     "data": {
      "text/plain": [
       "(10,)"
      ]
     },
     "execution_count": 6,
     "metadata": {},
     "output_type": "execute_result"
    }
   ],
   "source": [
    "data = np.array(data_raw)\n",
    "data.shape"
   ]
  },
  {
   "cell_type": "markdown",
   "metadata": {},
   "source": [
    "# sliding window validation"
   ]
  },
  {
   "cell_type": "code",
   "execution_count": 7,
   "metadata": {},
   "outputs": [],
   "source": [
    "def slidingwindow(n_folds, data):\n",
    "    data_len = data.shape[0]\n",
    "    folds = []\n",
    "    for i in range(1, data_len):\n",
    "         \n",
    "        train = [i-1]\n",
    "        test= [i]\n",
    "        \n",
    "        fold_indices = [train, test]\n",
    "        folds.append(fold_indices)\n",
    "        \n",
    "    return folds"
   ]
  },
  {
   "cell_type": "code",
   "execution_count": 8,
   "metadata": {},
   "outputs": [
    {
     "name": "stdout",
     "output_type": "stream",
     "text": [
      "Train: [0] \t Test: [1]\n",
      "Train: [1] \t Test: [2]\n",
      "Train: [2] \t Test: [3]\n",
      "Train: [3] \t Test: [4]\n",
      "Train: [4] \t Test: [5]\n",
      "Train: [5] \t Test: [6]\n",
      "Train: [6] \t Test: [7]\n",
      "Train: [7] \t Test: [8]\n",
      "Train: [8] \t Test: [9]\n"
     ]
    }
   ],
   "source": [
    "data_len = data.shape[0]\n",
    "for train, test in slidingwindow(data_len, data):\n",
    "    print('Train: {} \\t Test: {}'.format(train, test))\n",
    "    data_train = data[train]\n",
    "    data_test = data[test]"
   ]
  },
  {
   "cell_type": "code",
   "execution_count": 9,
   "metadata": {},
   "outputs": [
    {
     "name": "stdout",
     "output_type": "stream",
     "text": [
      "Train: [0] \t Test: [1]\n",
      "(428, 1) (669, 1)\n",
      "Train: [1] \t Test: [2]\n",
      "(669, 1) (349, 1)\n",
      "Train: [2] \t Test: [3]\n",
      "(349, 1) (480, 1)\n",
      "Train: [3] \t Test: [4]\n",
      "(480, 1) (341, 1)\n",
      "Train: [4] \t Test: [5]\n",
      "(341, 1) (572, 1)\n",
      "Train: [5] \t Test: [6]\n",
      "(572, 1) (434, 1)\n",
      "Train: [6] \t Test: [7]\n",
      "(434, 1) (511, 1)\n",
      "Train: [7] \t Test: [8]\n",
      "(511, 1) (349, 1)\n",
      "Train: [8] \t Test: [9]\n",
      "(349, 1) (421, 1)\n"
     ]
    }
   ],
   "source": [
    "for train, test in slidingwindow(data_len, data):\n",
    "    print('Train: {} \\t Test: {}'.format(train, test))\n",
    "    data_train = data[train]\n",
    "    data_test = data[test]\n",
    "    data_train = np.concatenate(data_train)\n",
    "    data_test = np.concatenate(data_test)\n",
    "    print(data_train.shape, data_test.shape)"
   ]
  },
  {
   "cell_type": "code",
   "execution_count": 10,
   "metadata": {},
   "outputs": [],
   "source": [
    "#****************************Create lagged time series dataset*******************\n",
    "look_back=3\n",
    "\n",
    "def prepare_seq2seq_data(dataset, look_back=1):\n",
    "\n",
    "    dataX, dataY = [], []\n",
    "    for i in range(len(dataset)-look_back-1):\n",
    "        a = dataset[i:(i+look_back), 0]\n",
    "        dataX.append(a)\n",
    "        dataY.append(dataset[i + look_back, 0])\n",
    "    return np.array(dataX), np.array(dataY)"
   ]
  },
  {
   "cell_type": "code",
   "execution_count": 11,
   "metadata": {},
   "outputs": [],
   "source": [
    "data_train= data_train.astype('float32')\n",
    "data_test = data_test.astype('float32')\n",
    "    \n",
    "scaler = MinMaxScaler (feature_range= (-1,1)) \n",
    "train_scaled = scaler.fit_transform (data_train)\n",
    "test_scaled = scaler.transform(data_test)"
   ]
  },
  {
   "cell_type": "code",
   "execution_count": 12,
   "metadata": {},
   "outputs": [],
   "source": [
    "look_back = 3\n",
    "train_X, train_y = prepare_seq2seq_data(train_scaled, look_back)\n",
    "test_X, test_y = prepare_seq2seq_data(test_scaled, look_back)"
   ]
  },
  {
   "cell_type": "code",
   "execution_count": 13,
   "metadata": {},
   "outputs": [
    {
     "name": "stdout",
     "output_type": "stream",
     "text": [
      "(345, 3, 1) (345,) (417, 3, 1) (417,)\n"
     ]
    }
   ],
   "source": [
    "train_X = np.reshape(train_X,(train_X.shape[0], train_X.shape[1], 1))\n",
    "test_X = np.reshape(test_X,(test_X.shape[0], test_X.shape[1], 1))\n",
    "print (train_X.shape,train_y.shape, test_X.shape, test_y.shape)"
   ]
  },
  {
   "cell_type": "code",
   "execution_count": 14,
   "metadata": {},
   "outputs": [],
   "source": [
    "#************************RPE (Relative Percentage Error)*****************************\n",
    "\n",
    "def rpe(y_true, y_pred):\n",
    "    return backend.abs((y_pred - y_true)/y_true * 100)"
   ]
  },
  {
   "cell_type": "markdown",
   "metadata": {},
   "source": [
    "# RNN model"
   ]
  },
  {
   "cell_type": "code",
   "execution_count": 15,
   "metadata": {},
   "outputs": [],
   "source": [
    "input_shape = train_X[0].shape\n",
    "\n",
    "def build_network1 ():\n",
    "    \n",
    "    #RNN model\n",
    "    model_rnn = tf.keras.Sequential([\n",
    "    tf.keras.layers.SimpleRNN(128, input_shape=(look_back, 1)),\n",
    "    tf.keras.layers.Dense(1)\n",
    "    ])\n",
    "    optimizer = tf.keras.optimizers.Adam(lr=0.0001)\n",
    "    model_rnn.compile(loss='mse', optimizer=optimizer, metrics=[rpe, rmse])\n",
    "     # fit the model or train on data\n",
    "    model_rnn.fit (train_X, train_y)\n",
    "    return model_rnn"
   ]
  },
  {
   "cell_type": "markdown",
   "metadata": {},
   "source": [
    "# LSTM model"
   ]
  },
  {
   "cell_type": "code",
   "execution_count": 16,
   "metadata": {},
   "outputs": [],
   "source": [
    "def build_network2 ():\n",
    "     \n",
    "    #LSTM model\n",
    "    model_lstm = tf.keras.Sequential([\n",
    "    tf.keras.layers.LSTM(128, input_shape=(look_back, 1)),\n",
    "    tf.keras.layers.Dense(1)\n",
    "    ])\n",
    "    optimizer = tf.keras.optimizers.Adam(lr=0.0001)\n",
    "    model_lstm.compile(loss='mse', optimizer=optimizer, metrics=[rpe, rmse])\n",
    "    # fit the model or train on data\n",
    "    model_lstm.fit (train_X, train_y)\n",
    "    return model_lstm"
   ]
  },
  {
   "cell_type": "markdown",
   "metadata": {},
   "source": [
    "# GRU model"
   ]
  },
  {
   "cell_type": "code",
   "execution_count": 17,
   "metadata": {},
   "outputs": [],
   "source": [
    "def build_network3 ():\n",
    "    \n",
    "    #GRU model\n",
    "    model_gru = tf.keras.Sequential([\n",
    "    tf.keras.layers.GRU(128, input_shape=(look_back, 1)),\n",
    "    tf.keras.layers.Dense(1)\n",
    "    ])\n",
    "    optimizer = tf.keras.optimizers.Adam(lr=0.0001)\n",
    "    model_gru.compile(loss='mse', optimizer=optimizer, metrics=[rpe, rmse])\n",
    "    # fit the model or train on data\n",
    "    model_gru.fit (train_X, train_y)\n",
    "    return model_gru"
   ]
  },
  {
   "cell_type": "code",
   "execution_count": 18,
   "metadata": {},
   "outputs": [],
   "source": [
    "def get_score(model, train_X, test_X,train_y, test_y):\n",
    "    model.fit(train_X, train_y)\n",
    "    return model.score(test_X, test_y)"
   ]
  },
  {
   "cell_type": "code",
   "execution_count": null,
   "metadata": {},
   "outputs": [],
   "source": []
  },
  {
   "cell_type": "markdown",
   "metadata": {},
   "source": [
    "# Learning curve (training and validation) RNN model"
   ]
  },
  {
   "cell_type": "code",
   "execution_count": 19,
   "metadata": {},
   "outputs": [],
   "source": [
    "''' Estimator'''\n",
    "# create model\n",
    "#model = KerasClassifier(build_fn=create_model, epochs=150, batch_size=10, verbose=0)\n",
    "\n",
    "estimator_rnn = KerasRegressor(build_fn=build_network1, batch_size=64, nb_epoch=1, verbose=1)"
   ]
  },
  {
   "cell_type": "code",
   "execution_count": 20,
   "metadata": {},
   "outputs": [],
   "source": [
    "#estimator_rnn.fit(train_X, train_y)"
   ]
  },
  {
   "cell_type": "code",
   "execution_count": 21,
   "metadata": {
    "scrolled": true
   },
   "outputs": [
    {
     "data": {
      "text/plain": [
       "' \\n\\n\\'\\'\\'Cross Validate\\'\\'\\'\\n#cv_scores = cross_val_score(estimator_rnn, train_X, train_y, cv=9)\\n#print(cv_scores.mean())\\n\\nsplits = 9\\nscores = cross_val_score(estimator_rnn, train_X, train_y, cv=splits, scoring= \\'neg_mean_squared_error\\')\\nprint(\"Loss: {0:.3f} (+/- {1:.3f})\".format(scores.mean(), scores.std()))\\nprint(scores.mean())\\n\\n'"
      ]
     },
     "execution_count": 21,
     "metadata": {},
     "output_type": "execute_result"
    }
   ],
   "source": [
    "\"\"\" \n",
    "\n",
    "'''Cross Validate'''\n",
    "#cv_scores = cross_val_score(estimator_rnn, train_X, train_y, cv=9)\n",
    "#print(cv_scores.mean())\n",
    "\n",
    "splits = 9\n",
    "scores = cross_val_score(estimator_rnn, train_X, train_y, cv=splits, scoring= 'neg_mean_squared_error')\n",
    "print(\"Loss: {0:.3f} (+/- {1:.3f})\".format(scores.mean(), scores.std()))\n",
    "print(scores.mean())\n",
    "\n",
    "\"\"\""
   ]
  },
  {
   "cell_type": "code",
   "execution_count": 22,
   "metadata": {},
   "outputs": [],
   "source": [
    "# evaluate using 10-fold cross validation\n",
    "\n",
    "#splits = TimeSeriesSplit(n_splits=9)\n",
    "#results = cross_val_score(estimator_rnn, train_X, train_y, cv=splits)\n",
    "#print(results.mean())"
   ]
  },
  {
   "cell_type": "code",
   "execution_count": 23,
   "metadata": {
    "scrolled": true
   },
   "outputs": [
    {
     "name": "stdout",
     "output_type": "stream",
     "text": [
      "345/345 [==============================] - 0s 683us/sample - loss: 1.0225 - rpe: 106.1852 - rmse: 1.0008\n",
      "30/30 [==============================] - 0s 67us/sample - loss: 0.5956 - rpe: 81.6890 - rmse: 0.7595\n",
      "39/39 [==============================] - 0s 897us/sample\n",
      "30/30 [==============================] - 0s 34us/sample\n",
      "345/345 [==============================] - 0s 585us/sample - loss: 0.3192 - rpe: 57.1953 - rmse: 0.5447\n",
      "76/76 [==============================] - 0s 53us/sample - loss: 0.1051 - rpe: 34.3802 - rmse: 0.3111\n",
      "39/39 [==============================] - 0s 999us/sample\n",
      "76/76 [==============================] - 0s 39us/sample\n",
      "345/345 [==============================] - 0s 577us/sample - loss: 0.7928 - rpe: 92.8597 - rmse: 0.8790\n",
      "153/153 [==============================] - 0s 46us/sample - loss: 0.4365 - rpe: 68.8048 - rmse: 0.6503\n",
      "39/39 [==============================] - 0s 943us/sample\n",
      "153/153 [==============================] - 0s 26us/sample\n",
      "345/345 [==============================] - 0s 576us/sample - loss: 0.3370 - rpe: 59.3393 - rmse: 0.5620\n",
      "229/229 [==============================] - 0s 31us/sample - loss: 0.1160 - rpe: 34.2145 - rmse: 0.3161\n",
      "39/39 [==============================] - 0s 1000us/sample\n",
      "229/229 [==============================] - 0s 17us/sample\n",
      "345/345 [==============================] - 0s 589us/sample - loss: 0.6064 - rpe: 80.7410 - rmse: 0.7653\n",
      "306/306 [==============================] - 0s 29us/sample - loss: 0.2553 - rpe: 52.3067 - rmse: 0.4939\n",
      "39/39 [==============================] - 0s 948us/sample\n",
      "306/306 [==============================] - 0s 16us/sample\n",
      "345/345 [==============================] - 0s 588us/sample - loss: 0.7288 - rpe: 89.0278 - rmse: 0.8417\n",
      "30/30 [==============================] - 0s 33us/sample - loss: 0.4085 - rpe: 65.5945 - rmse: 0.6353\n",
      "39/39 [==============================] - 0s 999us/sample\n",
      "30/30 [==============================] - 0s 33us/sample\n",
      "345/345 [==============================] - 0s 579us/sample - loss: 0.9981 - rpe: 104.6670 - rmse: 0.9892\n",
      "76/76 [==============================] - 0s 66us/sample - loss: 0.6157 - rpe: 83.3494 - rmse: 0.7801\n",
      "39/39 [==============================] - 0s 999us/sample\n",
      "76/76 [==============================] - 0s 39us/sample\n",
      "345/345 [==============================] - 0s 576us/sample - loss: 1.4390 - rpe: 126.4119 - rmse: 1.1900\n",
      "153/153 [==============================] - 0s 39us/sample - loss: 0.9318 - rpe: 100.8110 - rmse: 0.9617\n",
      "39/39 [==============================] - 0s 923us/sample\n",
      "153/153 [==============================] - 0s 20us/sample\n",
      "345/345 [==============================] - 0s 582us/sample - loss: 0.5455 - rpe: 76.0845 - rmse: 0.7244\n",
      "229/229 [==============================] - 0s 48us/sample - loss: 0.2764 - rpe: 54.0897 - rmse: 0.5113\n",
      "39/39 [==============================] - 0s 923us/sample\n",
      "229/229 [==============================] - 0s 13us/sample\n",
      "345/345 [==============================] - 0s 587us/sample - loss: 0.3714 - rpe: 62.1164 - rmse: 0.5919\n",
      "306/306 [==============================] - 0s 29us/sample - loss: 0.1214 - rpe: 34.9894 - rmse: 0.3272\n",
      "39/39 [==============================] - 0s 871us/sample\n",
      "306/306 [==============================] - 0s 13us/sample\n",
      "345/345 [==============================] - 0s 597us/sample - loss: 0.4137 - rpe: 66.3111 - rmse: 0.6285\n",
      "30/30 [==============================] - 0s 67us/sample - loss: 0.1901 - rpe: 44.2672 - rmse: 0.4306\n",
      "39/39 [==============================] - 0s 948us/sample\n",
      "30/30 [==============================] - 0s 33us/sample\n",
      "345/345 [==============================] - 0s 601us/sample - loss: 0.4273 - rpe: 67.0119 - rmse: 0.6377\n",
      "76/76 [==============================] - 0s 66us/sample - loss: 0.1776 - rpe: 44.2643 - rmse: 0.4136\n",
      "39/39 [==============================] - 0s 862us/sample\n",
      "76/76 [==============================] - 0s 13us/sample\n",
      "345/345 [==============================] - 0s 603us/sample - loss: 0.8916 - rpe: 98.7720 - rmse: 0.9341\n",
      "153/153 [==============================] - 0s 52us/sample - loss: 0.5226 - rpe: 74.8581 - rmse: 0.7163\n",
      "39/39 [==============================] - 0s 897us/sample\n",
      "153/153 [==============================] - 0s 13us/sample\n",
      "345/345 [==============================] - 0s 596us/sample - loss: 1.3428 - rpe: 121.7188 - rmse: 1.1487\n",
      "229/229 [==============================] - 0s 35us/sample - loss: 0.8157 - rpe: 94.4469 - rmse: 0.8977\n",
      "39/39 [==============================] - 0s 901us/sample\n",
      "229/229 [==============================] - 0s 17us/sample\n",
      "345/345 [==============================] - 0s 582us/sample - loss: 0.5332 - rpe: 75.2977 - rmse: 0.7156\n",
      "306/306 [==============================] - 0s 39us/sample - loss: 0.2241 - rpe: 48.6477 - rmse: 0.4584\n",
      "39/39 [==============================] - 0s 922us/sample\n",
      "306/306 [==============================] - 0s 13us/sample\n",
      "345/345 [==============================] - 0s 585us/sample - loss: 0.3323 - rpe: 58.7469 - rmse: 0.5567\n",
      "30/30 [==============================] - 0s 66us/sample - loss: 0.1212 - rpe: 34.9010 - rmse: 0.3408\n",
      "38/38 [==============================] - 0s 921us/sample\n",
      "30/30 [==============================] - 0s 0s/sample\n",
      "345/345 [==============================] - 0s 599us/sample - loss: 0.6917 - rpe: 86.5325 - rmse: 0.8199\n",
      "76/76 [==============================] - 0s 79us/sample - loss: 0.3810 - rpe: 64.5169 - rmse: 0.6081\n",
      "38/38 [==============================] - 0s 921us/sample\n",
      "76/76 [==============================] - 0s 27us/sample\n",
      "345/345 [==============================] - 0s 585us/sample - loss: 1.4413 - rpe: 126.3116 - rmse: 1.1900\n",
      "153/153 [==============================] - 0s 39us/sample - loss: 0.8892 - rpe: 100.3355 - rmse: 0.9358\n",
      "38/38 [==============================] - 0s 894us/sample\n",
      "153/153 [==============================] - 0s 20us/sample\n",
      "345/345 [==============================] - 0s 600us/sample - loss: 0.1404 - rpe: 36.5436 - rmse: 0.3389\n",
      "229/229 [==============================] - 0s 35us/sample - loss: 0.0443 - rpe: 14.6265 - rmse: 0.1144\n",
      "38/38 [==============================] - 0s 921us/sample\n",
      "229/229 [==============================] - 0s 9us/sample\n",
      "345/345 [==============================] - 0s 585us/sample - loss: 0.8285 - rpe: 95.0628 - rmse: 0.9010\n",
      "306/306 [==============================] - 0s 39us/sample - loss: 0.4649 - rpe: 70.9858 - rmse: 0.6731\n",
      "38/38 [==============================] - 0s 912us/sample\n",
      "306/306 [==============================] - 0s 10us/sample\n",
      "345/345 [==============================] - 0s 585us/sample - loss: 0.9496 - rpe: 102.0708 - rmse: 0.9643\n",
      "30/30 [==============================] - 0s 66us/sample - loss: 0.6265 - rpe: 81.6262 - rmse: 0.7889\n",
      "38/38 [==============================] - 0s 908us/sample\n",
      "30/30 [==============================] - 0s 33us/sample\n",
      "345/345 [==============================] - 0s 594us/sample - loss: 0.6002 - rpe: 79.9441 - rmse: 0.7592\n",
      "76/76 [==============================] - 0s 79us/sample - loss: 0.2820 - rpe: 55.7425 - rmse: 0.5235\n",
      "38/38 [==============================] - 0s 894us/sample\n",
      "76/76 [==============================] - 0s 26us/sample\n",
      "345/345 [==============================] - 0s 591us/sample - loss: 0.8171 - rpe: 94.2205 - rmse: 0.8927\n",
      "153/153 [==============================] - 0s 46us/sample - loss: 0.4430 - rpe: 69.7709 - rmse: 0.6591\n",
      "38/38 [==============================] - 0s 915us/sample\n",
      "153/153 [==============================] - 0s 20us/sample\n",
      "345/345 [==============================] - 0s 608us/sample - loss: 0.4198 - rpe: 66.8457 - rmse: 0.6343\n",
      "229/229 [==============================] - 0s 35us/sample - loss: 0.1657 - rpe: 42.9299 - rmse: 0.3996\n",
      "38/38 [==============================] - 0s 894us/sample\n",
      "229/229 [==============================] - 0s 9us/sample\n",
      "345/345 [==============================] - 0s 591us/sample - loss: 0.5998 - rpe: 80.1371 - rmse: 0.7613\n",
      "306/306 [==============================] - 0s 29us/sample - loss: 0.2616 - rpe: 53.2959 - rmse: 0.5033\n",
      "38/38 [==============================] - 0s 894us/sample\n",
      "306/306 [==============================] - 0s 10us/sample\n",
      "345/345 [==============================] - 0s 587us/sample - loss: 1.1305 - rpe: 111.3118 - rmse: 1.0525\n",
      "30/30 [==============================] - 0s 66us/sample - loss: 0.7402 - rpe: 88.8053 - rmse: 0.8579\n",
      "38/38 [==============================] - 0s 894us/sample\n",
      "30/30 [==============================] - 0s 0s/sample\n",
      "345/345 [==============================] - 0s 600us/sample - loss: 1.7161 - rpe: 138.1433 - rmse: 1.3007\n",
      "76/76 [==============================] - 0s 66us/sample - loss: 1.1816 - rpe: 116.3588 - rmse: 1.0808\n",
      "38/38 [==============================] - 0s 921us/sample\n",
      "76/76 [==============================] - 0s 26us/sample\n",
      "345/345 [==============================] - 0s 585us/sample - loss: 0.1930 - rpe: 44.1817 - rmse: 0.4147\n",
      "153/153 [==============================] - 0s 39us/sample - loss: 0.0406 - rpe: 20.0293 - rmse: 0.1864\n",
      "38/38 [==============================] - 0s 903us/sample\n",
      "153/153 [==============================] - 0s 13us/sample\n",
      "345/345 [==============================] - 0s 591us/sample - loss: 1.1229 - rpe: 111.3911 - rmse: 1.0504\n",
      "229/229 [==============================] - 0s 35us/sample - loss: 0.6786 - rpe: 86.2982 - rmse: 0.8181\n",
      "38/38 [==============================] - 0s 894us/sample\n",
      "229/229 [==============================] - 0s 13us/sample\n",
      "345/345 [==============================] - 0s 585us/sample - loss: 0.5232 - rpe: 74.4692 - rmse: 0.7086\n",
      "306/306 [==============================] - 0s 29us/sample - loss: 0.2209 - rpe: 48.1815 - rmse: 0.4586\n",
      "38/38 [==============================] - 0s 921us/sample\n",
      "306/306 [==============================] - 0s 13us/sample\n",
      "345/345 [==============================] - 0s 585us/sample - loss: 0.4034 - rpe: 65.0349 - rmse: 0.6172\n",
      "30/30 [==============================] - 0s 33us/sample - loss: 0.1795 - rpe: 42.7948 - rmse: 0.4167\n",
      "38/38 [==============================] - 0s 907us/sample\n",
      "30/30 [==============================] - 0s 33us/sample\n",
      "345/345 [==============================] - 0s 591us/sample - loss: 2.2744 - rpe: 159.7637 - rmse: 1.4985\n",
      "76/76 [==============================] - 0s 66us/sample - loss: 1.6532 - rpe: 138.2239 - rmse: 1.2800\n",
      "38/38 [==============================] - 0s 894us/sample\n",
      "76/76 [==============================] - 0s 26us/sample\n",
      "345/345 [==============================] - 0s 596us/sample - loss: 0.6698 - rpe: 84.8066 - rmse: 0.8048\n",
      "153/153 [==============================] - 0s 59us/sample - loss: 0.3413 - rpe: 60.8344 - rmse: 0.5756\n",
      "38/38 [==============================] - 0s 946us/sample\n",
      "153/153 [==============================] - 0s 13us/sample\n",
      "345/345 [==============================] - 0s 585us/sample - loss: 0.6601 - rpe: 84.3225 - rmse: 0.8000\n",
      "229/229 [==============================] - 0s 35us/sample - loss: 0.3183 - rpe: 58.3780 - rmse: 0.5519\n",
      "38/38 [==============================] - 0s 920us/sample\n",
      "229/229 [==============================] - 0s 22us/sample\n",
      "345/345 [==============================] - 0s 604us/sample - loss: 1.1840 - rpe: 114.6027 - rmse: 1.0798\n",
      "306/306 [==============================] - 0s 29us/sample - loss: 0.7218 - rpe: 88.9608 - rmse: 0.8420\n",
      "38/38 [==============================] - 0s 894us/sample\n",
      "306/306 [==============================] - 0s 10us/sample\n",
      "345/345 [==============================] - 0s 658us/sample - loss: 0.5977 - rpe: 79.4107 - rmse: 0.7557\n",
      "30/30 [==============================] - 0s 67us/sample - loss: 0.2975 - rpe: 55.6695 - rmse: 0.5402\n",
      "38/38 [==============================] - 0s 947us/sample\n",
      "30/30 [==============================] - 0s 0s/sample\n",
      "345/345 [==============================] - 0s 599us/sample - loss: 0.4157 - rpe: 66.4962 - rmse: 0.6306\n",
      "76/76 [==============================] - 0s 79us/sample - loss: 0.1811 - rpe: 44.8948 - rmse: 0.4186\n",
      "38/38 [==============================] - 0s 917us/sample\n",
      "76/76 [==============================] - 0s 26us/sample\n",
      "345/345 [==============================] - 0s 591us/sample - loss: 0.5218 - rpe: 74.7323 - rmse: 0.7099\n",
      "153/153 [==============================] - 0s 39us/sample - loss: 0.2496 - rpe: 52.1203 - rmse: 0.4927\n",
      "38/38 [==============================] - 0s 917us/sample\n",
      "153/153 [==============================] - 0s 13us/sample\n",
      "345/345 [==============================] - 0s 591us/sample - loss: 0.5450 - rpe: 76.4301 - rmse: 0.7250\n",
      "229/229 [==============================] - 0s 35us/sample - loss: 0.2689 - rpe: 53.7485 - rmse: 0.5027\n",
      "38/38 [==============================] - 0s 946us/sample\n",
      "229/229 [==============================] - 0s 13us/sample\n",
      "345/345 [==============================] - 0s 640us/sample - loss: 0.6277 - rpe: 82.0436 - rmse: 0.7782\n",
      "306/306 [==============================] - 0s 36us/sample - loss: 0.2910 - rpe: 55.7423 - rmse: 0.5256\n",
      "38/38 [==============================] - 0s 921us/sample\n",
      "306/306 [==============================] - 0s 16us/sample\n",
      "345/345 [==============================] - 0s 622us/sample - loss: 0.6004 - rpe: 80.5810 - rmse: 0.7635\n",
      "30/30 [==============================] - 0s 33us/sample - loss: 0.3303 - rpe: 58.8585 - rmse: 0.5707\n",
      "38/38 [==============================] - 0s 931us/sample\n",
      "30/30 [==============================] - 0s 33us/sample\n",
      "345/345 [==============================] - 0s 591us/sample - loss: 0.8949 - rpe: 98.5745 - rmse: 0.9330\n",
      "76/76 [==============================] - 0s 53us/sample - loss: 0.5332 - rpe: 76.6704 - rmse: 0.7197\n",
      "38/38 [==============================] - 0s 960us/sample\n",
      "76/76 [==============================] - 0s 26us/sample\n",
      "345/345 [==============================] - 0s 669us/sample - loss: 0.9296 - rpe: 100.7160 - rmse: 0.9517\n",
      "153/153 [==============================] - 0s 59us/sample - loss: 0.5039 - rpe: 74.3291 - rmse: 0.7021\n",
      "38/38 [==============================] - 0s 921us/sample\n",
      "153/153 [==============================] - 0s 20us/sample\n",
      "345/345 [==============================] - 0s 595us/sample - loss: 0.9728 - rpe: 103.1981 - rmse: 0.9754\n",
      "229/229 [==============================] - 0s 35us/sample - loss: 0.5463 - rpe: 76.8645 - rmse: 0.7285\n",
      "38/38 [==============================] - 0s 894us/sample\n",
      "229/229 [==============================] - 0s 13us/sample\n",
      "345/345 [==============================] - 0s 594us/sample - loss: 0.6129 - rpe: 81.2521 - rmse: 0.7706\n",
      "306/306 [==============================] - 0s 29us/sample - loss: 0.2826 - rpe: 54.9912 - rmse: 0.5204\n",
      "38/38 [==============================] - 0s 921us/sample\n",
      "306/306 [==============================] - 0s 13us/sample\n"
     ]
    }
   ],
   "source": [
    "splits=9\n",
    "train_sizes, train_loss, test_loss= learning_curve(\n",
    "       estimator_rnn, train_X, train_y, cv=splits, scoring='neg_mean_squared_error',\n",
    "        train_sizes=[0.1, 0.25, 0.5, 0.75, 1])"
   ]
  },
  {
   "cell_type": "code",
   "execution_count": 24,
   "metadata": {},
   "outputs": [
    {
     "data": {
      "image/png": "[encoded data removed]",
      "text/plain": [
       "<Figure size 432x288 with 1 Axes>"
      ]
     },
     "metadata": {
      "needs_background": "light"
     },
     "output_type": "display_data"
    }
   ],
   "source": [
    "train_loss_mean = np.mean(train_loss, axis=1)\n",
    "train_loss_std = np.std(train_loss, axis=1)\n",
    "test_loss_mean = np.mean(test_loss, axis=1)\n",
    "test_loss_std = np.std(test_loss, axis=1)\n",
    "plt.grid()\n",
    "\n",
    "plt.fill_between(train_sizes, train_loss_mean - train_loss_std,\n",
    "                     train_loss_mean + train_loss_std, alpha=0.1,\n",
    "                     color=\"r\")\n",
    "plt.fill_between(train_sizes, test_loss_mean - test_loss_std,\n",
    "                     test_loss_mean + test_loss_std, alpha=0.1, color=\"g\")\n",
    "plt.plot(train_sizes, train_loss_mean, 'o-', color=\"r\",\n",
    "             label=\"Training score\")\n",
    "plt.plot(train_sizes, test_loss_mean, 'o-', color=\"g\",\n",
    "             label=\"Cross-validation score\")\n",
    "\n",
    "plt.legend(loc=\"best\")\n",
    "plt.show()"
   ]
  },
  {
   "cell_type": "code",
   "execution_count": 25,
   "metadata": {},
   "outputs": [
    {
     "data": {
      "image/png": "[encoded data removed]",
      "text/plain": [
       "<Figure size 432x288 with 1 Axes>"
      ]
     },
     "metadata": {
      "needs_background": "light"
     },
     "output_type": "display_data"
    }
   ],
   "source": [
    "\"\"\" train and test loss mean and standard deviation\"\"\"\n",
    "\n",
    "train_loss_mean = -np.mean(train_loss, axis=1)\n",
    "train_loss_std = -np.std(train_loss, axis=1)\n",
    "test_loss_mean = -np.mean(test_loss, axis=1)\n",
    "test_loss_std = -np.std(test_loss, axis=1)\n",
    "plt.grid()\n",
    "\n",
    "\n",
    "plt.fill_between(train_sizes, train_loss_mean - train_loss_std,\n",
    "                     train_loss_mean + train_loss_std, alpha=0.1,\n",
    "                     color=\"r\")\n",
    "plt.fill_between(train_sizes, test_loss_mean - test_loss_std,\n",
    "                     test_loss_mean + test_loss_std, alpha=0.1, color=\"g\")\n",
    "plt.plot(train_sizes, train_loss_mean, 'o-', color=\"r\",\n",
    "             label=\"Training score\")\n",
    "plt.plot(train_sizes, test_loss_mean, 'o-', color=\"g\",\n",
    "             label=\"Cross-validation score\")\n",
    "\n",
    "plt.xlabel(\"Epochs\")\n",
    "plt.ylabel(\"Loss\")\n",
    "plt.legend(loc=\"best\")\n",
    "plt.title('Learning Curve_RNN model')\n",
    "plt.show()"
   ]
  },
  {
   "cell_type": "code",
   "execution_count": null,
   "metadata": {},
   "outputs": [],
   "source": []
  },
  {
   "cell_type": "markdown",
   "metadata": {},
   "source": [
    "# Learning curve (training and validation) LSTM model"
   ]
  },
  {
   "cell_type": "code",
   "execution_count": 26,
   "metadata": {},
   "outputs": [],
   "source": [
    "''' Estimator'''\n",
    "# create model\n",
    "#model = KerasClassifier(build_fn=create_model, epochs=150, batch_size=10, verbose=0)\n",
    "\n",
    "estimator_lstm = KerasRegressor(build_fn=build_network2, batch_size=64, nb_epoch=1, verbose=1)"
   ]
  },
  {
   "cell_type": "code",
   "execution_count": 27,
   "metadata": {
    "scrolled": true
   },
   "outputs": [
    {
     "data": {
      "text/plain": [
       "' \\n\\'\\'\\'Cross Validate\\'\\'\\'\\n#cv_scores = cross_val_score(estimator_rnn, train_X, train_y, cv=9)\\n#print(cv_scores.mean())\\n\\nsplits = 9\\nscores = cross_val_score(estimator_lstm, train_X, train_y, cv=splits, scoring= \\'neg_mean_squared_error\\')\\nprint(\"Loss: {0:.3f} (+/- {1:.3f})\".format(scores.mean(), scores.std()))\\nprint(scores.mean())\\n\\n '"
      ]
     },
     "execution_count": 27,
     "metadata": {},
     "output_type": "execute_result"
    }
   ],
   "source": [
    "\"\"\" \n",
    "'''Cross Validate'''\n",
    "#cv_scores = cross_val_score(estimator_rnn, train_X, train_y, cv=9)\n",
    "#print(cv_scores.mean())\n",
    "\n",
    "splits = 9\n",
    "scores = cross_val_score(estimator_lstm, train_X, train_y, cv=splits, scoring= 'neg_mean_squared_error')\n",
    "print(\"Loss: {0:.3f} (+/- {1:.3f})\".format(scores.mean(), scores.std()))\n",
    "print(scores.mean())\n",
    "\n",
    " \"\"\""
   ]
  },
  {
   "cell_type": "code",
   "execution_count": 28,
   "metadata": {},
   "outputs": [
    {
     "name": "stdout",
     "output_type": "stream",
     "text": [
      "345/345 [==============================] - 0s 832us/sample - loss: 0.8512 - rpe: 97.0319 - rmse: 0.9180\n",
      "30/30 [==============================] - 0s 266us/sample - loss: 0.7786 - rpe: 94.4807 - rmse: 0.8720\n",
      "39/39 [==============================] - 0s 1ms/sample\n",
      "30/30 [==============================] - 0s 33us/sample\n",
      "345/345 [==============================] - 0s 895us/sample - loss: 0.8894 - rpe: 99.2656 - rmse: 0.9385\n",
      "76/76 [==============================] - 0s 171us/sample - loss: 0.7824 - rpe: 97.0596 - rmse: 0.8771\n",
      "39/39 [==============================] - 0s 1ms/sample\n",
      "76/76 [==============================] - 0s 39us/sample\n",
      "345/345 [==============================] - 0s 1ms/sample - loss: 0.8677 - rpe: 98.0152 - rmse: 0.9269\n",
      "153/153 [==============================] - 0s 78us/sample - loss: 0.8141 - rpe: 95.5944 - rmse: 0.8975\n",
      "39/39 [==============================] - 0s 1ms/sample\n",
      "153/153 [==============================] - 0s 26us/sample\n",
      "345/345 [==============================] - 0s 821us/sample - loss: 0.8370 - rpe: 96.1807 - rmse: 0.9101\n",
      "229/229 [==============================] - 0s 61us/sample - loss: 0.7853 - rpe: 93.2940 - rmse: 0.8801\n",
      "39/39 [==============================] - 0s 1ms/sample\n",
      "229/229 [==============================] - 0s 22us/sample\n",
      "345/345 [==============================] - 0s 831us/sample - loss: 0.9668 - rpe: 103.5726 - rmse: 0.9787\n",
      "306/306 [==============================] - 0s 52us/sample - loss: 0.9093 - rpe: 100.5892 - rmse: 0.9487\n",
      "39/39 [==============================] - 0s 1ms/sample\n",
      "306/306 [==============================] - 0s 23us/sample\n",
      "345/345 [==============================] - 0s 836us/sample - loss: 0.9847 - rpe: 104.5864 - rmse: 0.9879\n",
      "30/30 [==============================] - 0s 100us/sample - loss: 0.9790 - rpe: 102.3201 - rmse: 0.9875\n",
      "39/39 [==============================] - 0s 1ms/sample\n",
      "30/30 [==============================] - 0s 33us/sample\n",
      "345/345 [==============================] - 0s 826us/sample - loss: 0.8872 - rpe: 99.1377 - rmse: 0.9374\n",
      "76/76 [==============================] - 0s 92us/sample - loss: 0.8241 - rpe: 96.6933 - rmse: 0.9038\n",
      "39/39 [==============================] - 0s 1ms/sample\n",
      "76/76 [==============================] - 0s 39us/sample\n",
      "345/345 [==============================] - 0s 814us/sample - loss: 0.9440 - rpe: 102.2675 - rmse: 0.9670\n",
      "153/153 [==============================] - 0s 65us/sample - loss: 0.9085 - rpe: 99.6661 - rmse: 0.9506\n",
      "39/39 [==============================] - 0s 1ms/sample\n",
      "153/153 [==============================] - 0s 26us/sample\n",
      "345/345 [==============================] - 0s 826us/sample - loss: 0.8498 - rpe: 96.9934 - rmse: 0.9173\n",
      "229/229 [==============================] - 0s 57us/sample - loss: 0.8150 - rpe: 94.2510 - rmse: 0.8983\n",
      "39/39 [==============================] - 0s 1ms/sample\n",
      "229/229 [==============================] - 0s 22us/sample\n",
      "345/345 [==============================] - 0s 833us/sample - loss: 0.7886 - rpe: 93.2462 - rmse: 0.8832\n",
      "306/306 [==============================] - 0s 52us/sample - loss: 0.7472 - rpe: 90.2517 - rmse: 0.8601\n",
      "39/39 [==============================] - 0s 1ms/sample\n",
      "306/306 [==============================] - 0s 20us/sample\n",
      "345/345 [==============================] - 0s 820us/sample - loss: 0.8644 - rpe: 97.8209 - rmse: 0.9251\n",
      "30/30 [==============================] - 0s 100us/sample - loss: 0.8576 - rpe: 95.6950 - rmse: 0.9240\n",
      "39/39 [==============================] - 0s 1ms/sample\n",
      "30/30 [==============================] - 0s 34us/sample\n",
      "345/345 [==============================] - 0s 825us/sample - loss: 0.9093 - rpe: 100.3508 - rmse: 0.9489\n",
      "76/76 [==============================] - 0s 92us/sample - loss: 0.8465 - rpe: 98.0613 - rmse: 0.9138\n",
      "39/39 [==============================] - 0s 1ms/sample\n",
      "76/76 [==============================] - 0s 39us/sample\n",
      "345/345 [==============================] - 0s 827us/sample - loss: 0.9307 - rpe: 101.5591 - rmse: 0.9601\n",
      "153/153 [==============================] - 0s 72us/sample - loss: 0.8941 - rpe: 98.8886 - rmse: 0.9419\n",
      "39/39 [==============================] - 0s 1ms/sample\n",
      "153/153 [==============================] - 0s 26us/sample\n",
      "345/345 [==============================] - 0s 825us/sample - loss: 0.9476 - rpe: 102.5059 - rmse: 0.9689\n",
      "229/229 [==============================] - 0s 57us/sample - loss: 0.9063 - rpe: 99.5612 - rmse: 0.9469\n",
      "39/39 [==============================] - 0s 1ms/sample\n",
      "229/229 [==============================] - 0s 22us/sample\n",
      "345/345 [==============================] - 0s 818us/sample - loss: 0.7369 - rpe: 90.0846 - rmse: 0.8535\n",
      "306/306 [==============================] - 0s 52us/sample - loss: 0.6987 - rpe: 87.1683 - rmse: 0.8309\n",
      "39/39 [==============================] - 0s 1ms/sample\n",
      "306/306 [==============================] - 0s 20us/sample\n",
      "345/345 [==============================] - 0s 817us/sample - loss: 0.8313 - rpe: 95.8525 - rmse: 0.9070\n",
      "30/30 [==============================] - 0s 100us/sample - loss: 0.8231 - rpe: 93.7241 - rmse: 0.9051\n",
      "38/38 [==============================] - 0s 1ms/sample\n",
      "30/30 [==============================] - 0s 33us/sample\n",
      "345/345 [==============================] - 0s 822us/sample - loss: 0.8160 - rpe: 94.9142 - rmse: 0.8985\n",
      "76/76 [==============================] - 0s 79us/sample - loss: 0.7554 - rpe: 92.4437 - rmse: 0.8627\n",
      "38/38 [==============================] - 0s 1ms/sample\n",
      "76/76 [==============================] - 0s 26us/sample\n",
      "345/345 [==============================] - 0s 831us/sample - loss: 0.6848 - rpe: 86.6865 - rmse: 0.8223\n",
      "153/153 [==============================] - 0s 65us/sample - loss: 0.6302 - rpe: 84.2282 - rmse: 0.7878\n",
      "38/38 [==============================] - 0s 1ms/sample\n",
      "153/153 [==============================] - 0s 26us/sample\n",
      "345/345 [==============================] - 0s 915us/sample - loss: 0.7683 - rpe: 92.0542 - rmse: 0.8717\n",
      "229/229 [==============================] - 0s 65us/sample - loss: 0.7137 - rpe: 89.0997 - rmse: 0.8382\n",
      "38/38 [==============================] - 0s 1ms/sample\n",
      "229/229 [==============================] - 0s 22us/sample\n",
      "345/345 [==============================] - 0s 837us/sample - loss: 0.8687 - rpe: 98.0151 - rmse: 0.9273\n",
      "306/306 [==============================] - 0s 56us/sample - loss: 0.8034 - rpe: 94.6065 - rmse: 0.8911\n",
      "38/38 [==============================] - 0s 1ms/sample\n",
      "306/306 [==============================] - 0s 23us/sample\n",
      "345/345 [==============================] - 0s 827us/sample - loss: 0.7830 - rpe: 92.9734 - rmse: 0.8801\n",
      "30/30 [==============================] - 0s 66us/sample - loss: 0.7721 - rpe: 90.7359 - rmse: 0.8764\n",
      "38/38 [==============================] - 0s 1ms/sample\n",
      "30/30 [==============================] - 0s 33us/sample\n",
      "345/345 [==============================] - 0s 827us/sample - loss: 0.8859 - rpe: 99.0206 - rmse: 0.9365\n",
      "76/76 [==============================] - 0s 92us/sample - loss: 0.8236 - rpe: 96.6852 - rmse: 0.9012\n",
      "38/38 [==============================] - 0s 1ms/sample\n",
      "76/76 [==============================] - 0s 26us/sample\n",
      "345/345 [==============================] - 0s 829us/sample - loss: 0.9126 - rpe: 100.5646 - rmse: 0.9508\n",
      "153/153 [==============================] - 0s 65us/sample - loss: 0.8556 - rpe: 97.9453 - rmse: 0.9202\n",
      "38/38 [==============================] - 0s 1ms/sample\n",
      "153/153 [==============================] - 0s 33us/sample\n",
      "345/345 [==============================] - 0s 939us/sample - loss: 0.9585 - rpe: 103.1444 - rmse: 0.9746\n",
      "229/229 [==============================] - 0s 57us/sample - loss: 0.9052 - rpe: 100.3471 - rmse: 0.9456\n",
      "38/38 [==============================] - 0s 1ms/sample\n",
      "229/229 [==============================] - 0s 26us/sample\n",
      "345/345 [==============================] - 0s 869us/sample - loss: 0.7829 - rpe: 92.9098 - rmse: 0.8799\n",
      "306/306 [==============================] - 0s 55us/sample - loss: 0.7279 - rpe: 89.5545 - rmse: 0.8478\n",
      "38/38 [==============================] - 0s 1ms/sample\n",
      "306/306 [==============================] - 0s 23us/sample\n",
      "345/345 [==============================] - 0s 967us/sample - loss: 0.8699 - rpe: 98.1185 - rmse: 0.9280\n",
      "30/30 [==============================] - 0s 100us/sample - loss: 0.8629 - rpe: 95.9919 - rmse: 0.9268\n",
      "38/38 [==============================] - 0s 1ms/sample\n",
      "30/30 [==============================] - 0s 33us/sample\n",
      "345/345 [==============================] - 0s 868us/sample - loss: 0.9206 - rpe: 101.0571 - rmse: 0.9550\n",
      "76/76 [==============================] - 0s 145us/sample - loss: 0.8532 - rpe: 98.4593 - rmse: 0.9175\n",
      "38/38 [==============================] - 0s 1ms/sample\n",
      "76/76 [==============================] - 0s 53us/sample\n",
      "345/345 [==============================] - 0s 887us/sample - loss: 0.9283 - rpe: 101.4611 - rmse: 0.9590\n",
      "153/153 [==============================] - 0s 59us/sample - loss: 0.8747 - rpe: 99.0572 - rmse: 0.9305\n",
      "38/38 [==============================] - 0s 1ms/sample\n",
      "153/153 [==============================] - 0s 26us/sample\n",
      "345/345 [==============================] - 0s 840us/sample - loss: 0.9102 - rpe: 100.4259 - rmse: 0.9495\n",
      "229/229 [==============================] - 0s 57us/sample - loss: 0.8642 - rpe: 97.7693 - rmse: 0.9260\n",
      "38/38 [==============================] - 0s 1ms/sample\n",
      "229/229 [==============================] - 0s 22us/sample\n",
      "345/345 [==============================] - 0s 826us/sample - loss: 0.7744 - rpe: 92.3677 - rmse: 0.8750\n",
      "306/306 [==============================] - 0s 52us/sample - loss: 0.7264 - rpe: 89.4749 - rmse: 0.8487\n",
      "38/38 [==============================] - 0s 1ms/sample\n",
      "306/306 [==============================] - 0s 20us/sample\n",
      "345/345 [==============================] - 0s 886us/sample - loss: 0.7605 - rpe: 91.5995 - rmse: 0.8673\n",
      "30/30 [==============================] - 0s 67us/sample - loss: 0.7488 - rpe: 89.3432 - rmse: 0.8630\n",
      "38/38 [==============================] - 0s 1ms/sample\n",
      "30/30 [==============================] - 0s 33us/sample\n",
      "345/345 [==============================] - 0s 898us/sample - loss: 0.8009 - rpe: 94.0430 - rmse: 0.8902\n",
      "76/76 [==============================] - 0s 132us/sample - loss: 0.7377 - rpe: 91.3041 - rmse: 0.8523\n",
      "38/38 [==============================] - 0s 1ms/sample\n",
      "76/76 [==============================] - 0s 39us/sample\n",
      "345/345 [==============================] - 0s 835us/sample - loss: 0.9821 - rpe: 104.4001 - rmse: 0.9865\n",
      "153/153 [==============================] - 0s 65us/sample - loss: 0.9235 - rpe: 101.8399 - rmse: 0.9563\n",
      "38/38 [==============================] - 0s 1ms/sample\n",
      "153/153 [==============================] - 0s 33us/sample\n",
      "345/345 [==============================] - 0s 890us/sample - loss: 0.8269 - rpe: 95.5926 - rmse: 0.9047\n",
      "229/229 [==============================] - 0s 70us/sample - loss: 0.7780 - rpe: 92.8703 - rmse: 0.8757\n",
      "38/38 [==============================] - 0s 1ms/sample\n",
      "229/229 [==============================] - 0s 26us/sample\n",
      "345/345 [==============================] - 0s 939us/sample - loss: 0.7817 - rpe: 92.8283 - rmse: 0.8792\n",
      "306/306 [==============================] - 0s 52us/sample - loss: 0.7332 - rpe: 89.9836 - rmse: 0.8507\n",
      "38/38 [==============================] - 0s 1ms/sample\n",
      "306/306 [==============================] - 0s 23us/sample\n",
      "345/345 [==============================] - 0s 856us/sample - loss: 0.8865 - rpe: 99.0825 - rmse: 0.9370\n",
      "30/30 [==============================] - 0s 99us/sample - loss: 0.8782 - rpe: 96.8465 - rmse: 0.9350\n",
      "38/38 [==============================] - 0s 1ms/sample\n",
      "30/30 [==============================] - 0s 33us/sample\n",
      "345/345 [==============================] - 0s 844us/sample - loss: 0.8294 - rpe: 95.7207 - rmse: 0.9060\n",
      "76/76 [==============================] - 0s 92us/sample - loss: 0.7698 - rpe: 93.3552 - rmse: 0.8709\n",
      "38/38 [==============================] - 0s 1ms/sample\n",
      "76/76 [==============================] - 0s 39us/sample\n",
      "345/345 [==============================] - 0s 837us/sample - loss: 0.9910 - rpe: 104.9507 - rmse: 0.9911\n",
      "153/153 [==============================] - 0s 65us/sample - loss: 0.9333 - rpe: 102.3939 - rmse: 0.9614\n",
      "38/38 [==============================] - 0s 1ms/sample\n",
      "153/153 [==============================] - 0s 33us/sample\n",
      "345/345 [==============================] - 0s 842us/sample - loss: 0.9238 - rpe: 101.1597 - rmse: 0.9565\n",
      "229/229 [==============================] - 0s 57us/sample - loss: 0.8607 - rpe: 97.8942 - rmse: 0.9217\n",
      "38/38 [==============================] - 0s 1ms/sample\n",
      "229/229 [==============================] - 0s 31us/sample\n",
      "345/345 [==============================] - 0s 892us/sample - loss: 0.9038 - rpe: 100.0821 - rmse: 0.9461\n",
      "306/306 [==============================] - 0s 59us/sample - loss: 0.8520 - rpe: 97.0061 - rmse: 0.9182\n",
      "38/38 [==============================] - 0s 1ms/sample\n",
      "306/306 [==============================] - 0s 23us/sample\n",
      "345/345 [==============================] - 0s 869us/sample - loss: 0.8456 - rpe: 96.6363 - rmse: 0.9147\n",
      "30/30 [==============================] - 0s 67us/sample - loss: 0.8354 - rpe: 94.4317 - rmse: 0.9118\n",
      "38/38 [==============================] - 0s 1ms/sample\n",
      "30/30 [==============================] - 0s 33us/sample\n",
      "345/345 [==============================] - 0s 889us/sample - loss: 0.8425 - rpe: 96.5423 - rmse: 0.9132\n",
      "76/76 [==============================] - 0s 92us/sample - loss: 0.7812 - rpe: 94.0744 - rmse: 0.8774\n",
      "38/38 [==============================] - 0s 1ms/sample\n",
      "76/76 [==============================] - 0s 66us/sample\n",
      "345/345 [==============================] - 0s 910us/sample - loss: 0.8822 - rpe: 98.8462 - rmse: 0.9347\n",
      "153/153 [==============================] - 0s 72us/sample - loss: 0.8257 - rpe: 96.1863 - rmse: 0.9039\n",
      "38/38 [==============================] - 0s 1ms/sample\n",
      "153/153 [==============================] - 0s 33us/sample\n",
      "345/345 [==============================] - 0s 886us/sample - loss: 0.9295 - rpe: 101.5382 - rmse: 0.9596\n",
      "229/229 [==============================] - 0s 59us/sample - loss: 0.8779 - rpe: 98.9103 - rmse: 0.9310\n",
      "38/38 [==============================] - 0s 1ms/sample\n",
      "229/229 [==============================] - 0s 26us/sample\n",
      "345/345 [==============================] - 0s 929us/sample - loss: 0.9771 - rpe: 104.1317 - rmse: 0.9839\n",
      "306/306 [==============================] - 0s 56us/sample - loss: 0.9178 - rpe: 100.9106 - rmse: 0.9531\n",
      "38/38 [==============================] - 0s 1ms/sample\n",
      "306/306 [==============================] - 0s 20us/sample\n"
     ]
    }
   ],
   "source": [
    "train_sizes, train_loss, test_loss= learning_curve(\n",
    "       estimator_lstm, train_X, train_y, cv=splits, scoring='neg_mean_squared_error',\n",
    "        train_sizes=[0.1, 0.25, 0.5, 0.75, 1])"
   ]
  },
  {
   "cell_type": "code",
   "execution_count": 29,
   "metadata": {},
   "outputs": [
    {
     "data": {
      "image/png": "[encoded data removed]",
      "text/plain": [
       "<Figure size 432x288 with 1 Axes>"
      ]
     },
     "metadata": {
      "needs_background": "light"
     },
     "output_type": "display_data"
    }
   ],
   "source": [
    "train_loss_mean = np.mean(train_loss, axis=1)\n",
    "train_loss_std = np.std(train_loss, axis=1)\n",
    "test_loss_mean = np.mean(test_loss, axis=1)\n",
    "test_loss_std = np.std(test_loss, axis=1)\n",
    "plt.grid()\n",
    "\n",
    "plt.fill_between(train_sizes, train_loss_mean - train_loss_std,\n",
    "                     train_loss_mean + train_loss_std, alpha=0.1,\n",
    "                     color=\"r\")\n",
    "plt.fill_between(train_sizes, test_loss_mean - test_loss_std,\n",
    "                     test_loss_mean + test_loss_std, alpha=0.1, color=\"g\")\n",
    "plt.plot(train_sizes, train_loss_mean, 'o-', color=\"r\",\n",
    "             label=\"Training score\")\n",
    "plt.plot(train_sizes, test_loss_mean, 'o-', color=\"g\",\n",
    "             label=\"Cross-validation score\")\n",
    "\n",
    "plt.legend(loc=\"best\")\n",
    "plt.show()"
   ]
  },
  {
   "cell_type": "code",
   "execution_count": 30,
   "metadata": {},
   "outputs": [
    {
     "data": {
      "image/png": "[encoded data removed]",
      "text/plain": [
       "<Figure size 432x288 with 1 Axes>"
      ]
     },
     "metadata": {
      "needs_background": "light"
     },
     "output_type": "display_data"
    }
   ],
   "source": [
    "\"\"\" train and test loss mean and standard deviation\"\"\"\n",
    "\n",
    "train_loss_mean = -np.mean(train_loss, axis=1)\n",
    "train_loss_std = -np.std(train_loss, axis=1)\n",
    "test_loss_mean = -np.mean(test_loss, axis=1)\n",
    "test_loss_std = -np.std(test_loss, axis=1)\n",
    "plt.grid()\n",
    "\n",
    "\n",
    "plt.fill_between(train_sizes, train_loss_mean - train_loss_std,\n",
    "                     train_loss_mean + train_loss_std, alpha=0.1,\n",
    "                     color=\"r\")\n",
    "plt.fill_between(train_sizes, test_loss_mean - test_loss_std,\n",
    "                     test_loss_mean + test_loss_std, alpha=0.1, color=\"g\")\n",
    "plt.plot(train_sizes, train_loss_mean, 'o-', color=\"r\",\n",
    "             label=\"Training score\")\n",
    "plt.plot(train_sizes, test_loss_mean, 'o-', color=\"g\",\n",
    "             label=\"Cross-validation score\")\n",
    "\n",
    "plt.xlabel(\"Epochs\")\n",
    "plt.ylabel(\"Loss\")\n",
    "plt.legend(loc=\"best\")\n",
    "plt.title('Learning Curve_LSTM model')\n",
    "plt.show()"
   ]
  },
  {
   "cell_type": "code",
   "execution_count": null,
   "metadata": {},
   "outputs": [],
   "source": []
  },
  {
   "cell_type": "markdown",
   "metadata": {},
   "source": [
    "# Learning curve (training and validation) GRU model"
   ]
  },
  {
   "cell_type": "code",
   "execution_count": 31,
   "metadata": {},
   "outputs": [],
   "source": [
    "''' Estimator'''\n",
    "# create model\n",
    "#model = KerasClassifier(build_fn=create_model, epochs=150, batch_size=10, verbose=0)\n",
    "\n",
    "estimator_gru = KerasRegressor(build_fn=build_network3, batch_size=64, nb_epoch=1, verbose=1)"
   ]
  },
  {
   "cell_type": "code",
   "execution_count": 32,
   "metadata": {},
   "outputs": [
    {
     "data": {
      "text/plain": [
       "' \\n\\'\\'\\'Cross Validate\\'\\'\\'\\n#cv_scores = cross_val_score(estimator_rnn, train_X, train_y, cv=9)\\n#print(cv_scores.mean())\\n\\nsplits = 9\\nscores = cross_val_score(estimator_gru, train_X, train_y, cv=splits, scoring= \\'neg_mean_squared_error\\')\\nprint(\"Loss: {0:.3f} (+/- {1:.3f})\".format(scores.mean(), scores.std()))\\nprint(scores.mean())\\n\\n '"
      ]
     },
     "execution_count": 32,
     "metadata": {},
     "output_type": "execute_result"
    }
   ],
   "source": [
    "\"\"\" \n",
    "'''Cross Validate'''\n",
    "#cv_scores = cross_val_score(estimator_rnn, train_X, train_y, cv=9)\n",
    "#print(cv_scores.mean())\n",
    "\n",
    "splits = 9\n",
    "scores = cross_val_score(estimator_gru, train_X, train_y, cv=splits, scoring= 'neg_mean_squared_error')\n",
    "print(\"Loss: {0:.3f} (+/- {1:.3f})\".format(scores.mean(), scores.std()))\n",
    "print(scores.mean())\n",
    "\n",
    " \"\"\""
   ]
  },
  {
   "cell_type": "code",
   "execution_count": null,
   "metadata": {},
   "outputs": [
    {
     "name": "stdout",
     "output_type": "stream",
     "text": [
      "345/345 [==============================] - 0s 1ms/sample - loss: 0.9112 - rpe: 100.4986 - rmse: 0.9500\n",
      "30/30 [==============================] - 0s 133us/sample - loss: 0.8084 - rpe: 96.4011 - rmse: 0.8889\n",
      "39/39 [==============================] - 0s 1ms/sample\n",
      "30/30 [==============================] - 0s 33us/sample\n",
      "345/345 [==============================] - 0s 1ms/sample - loss: 0.8004 - rpe: 93.9961 - rmse: 0.8898\n",
      "76/76 [==============================] - 0s 171us/sample - loss: 0.6686 - rpe: 89.3948 - rmse: 0.8097\n",
      "39/39 [==============================] - 0s 2ms/sample\n",
      "76/76 [==============================] - 0s 39us/sample\n",
      "345/345 [==============================] - 0s 1ms/sample - loss: 1.0762 - rpe: 109.3607 - rmse: 1.0326\n",
      "153/153 [==============================] - 0s 72us/sample - loss: 0.9578 - rpe: 103.8791 - rmse: 0.9741\n",
      "39/39 [==============================] - 0s 1ms/sample\n",
      "153/153 [==============================] - 0s 26us/sample\n",
      "345/345 [==============================] - 0s 935us/sample - loss: 0.9456 - rpe: 102.3006 - rmse: 0.9675\n",
      "229/229 [==============================] - 0s 61us/sample - loss: 0.8521 - rpe: 97.3213 - rmse: 0.9172\n",
      "39/39 [==============================] - 0s 1ms/sample\n",
      "229/229 [==============================] - 0s 22us/sample\n",
      "345/345 [==============================] - 0s 984us/sample - loss: 0.7032 - rpe: 87.9068 - rmse: 0.8332\n",
      "306/306 [==============================] - 0s 52us/sample - loss: 0.6178 - rpe: 82.3245 - rmse: 0.7801\n",
      "39/39 [==============================] - 0s 1ms/sample\n",
      "306/306 [==============================] - 0s 23us/sample\n",
      "345/345 [==============================] - 0s 936us/sample - loss: 0.7790 - rpe: 92.6769 - rmse: 0.8776\n",
      "30/30 [==============================] - 0s 100us/sample - loss: 0.7331 - rpe: 88.3876 - rmse: 0.8539\n",
      "39/39 [==============================] - 0s 1ms/sample\n",
      "30/30 [==============================] - 0s 33us/sample\n",
      "345/345 [==============================] - 0s 937us/sample - loss: 0.9824 - rpe: 104.4281 - rmse: 0.9865\n",
      "76/76 [==============================] - 0s 79us/sample - loss: 0.8819 - rpe: 100.1017 - rmse: 0.9353\n",
      "39/39 [==============================] - 0s 1ms/sample\n",
      "76/76 [==============================] - 0s 39us/sample\n",
      "345/345 [==============================] - 0s 933us/sample - loss: 0.9288 - rpe: 101.5042 - rmse: 0.9592\n",
      "153/153 [==============================] - 0s 59us/sample - loss: 0.8570 - rpe: 96.7387 - rmse: 0.9230\n",
      "39/39 [==============================] - 0s 1ms/sample\n",
      "153/153 [==============================] - 0s 26us/sample\n"
     ]
    }
   ],
   "source": [
    "train_sizes, train_loss, test_loss= learning_curve(\n",
    "       estimator_gru, train_X, train_y, cv=splits, scoring='neg_mean_squared_error',\n",
    "        train_sizes=[0.1, 0.25, 0.5, 0.75, 1])"
   ]
  },
  {
   "cell_type": "code",
   "execution_count": null,
   "metadata": {},
   "outputs": [],
   "source": [
    "train_loss_mean = np.mean(train_loss, axis=1)\n",
    "train_loss_std = np.std(train_loss, axis=1)\n",
    "test_loss_mean = np.mean(test_loss, axis=1)\n",
    "test_loss_std = np.std(test_loss, axis=1)\n",
    "plt.grid()\n",
    "\n",
    "plt.fill_between(train_sizes, train_loss_mean - train_loss_std,\n",
    "                     train_loss_mean + train_loss_std, alpha=0.1,\n",
    "                     color=\"r\")\n",
    "plt.fill_between(train_sizes, test_loss_mean - test_loss_std,\n",
    "                     test_loss_mean + test_loss_std, alpha=0.1, color=\"g\")\n",
    "plt.plot(train_sizes, train_loss_mean, 'o-', color=\"r\",\n",
    "             label=\"Training score\")\n",
    "plt.plot(train_sizes, test_loss_mean, 'o-', color=\"g\",\n",
    "             label=\"Cross-validation score\")\n",
    "\n",
    "plt.legend(loc=\"best\")\n",
    "plt.show()"
   ]
  },
  {
   "cell_type": "code",
   "execution_count": null,
   "metadata": {},
   "outputs": [],
   "source": [
    "\"\"\" train and test loss mean and standard deviation\"\"\"\n",
    "\n",
    "train_loss_mean = -np.mean(train_loss, axis=1)\n",
    "train_loss_std = -np.std(train_loss, axis=1)\n",
    "test_loss_mean = -np.mean(test_loss, axis=1)\n",
    "test_loss_std = -np.std(test_loss, axis=1)\n",
    "plt.grid()\n",
    "\n",
    "\n",
    "plt.fill_between(train_sizes, train_loss_mean - train_loss_std,\n",
    "                     train_loss_mean + train_loss_std, alpha=0.1,\n",
    "                     color=\"r\")\n",
    "plt.fill_between(train_sizes, test_loss_mean - test_loss_std,\n",
    "                     test_loss_mean + test_loss_std, alpha=0.1, color=\"g\")\n",
    "plt.plot(train_sizes, train_loss_mean, 'o-', color=\"r\",\n",
    "             label=\"Training score\")\n",
    "plt.plot(train_sizes, test_loss_mean, 'o-', color=\"g\",\n",
    "             label=\"Cross-validation score\")\n",
    "\n",
    "plt.xlabel(\"Epochs\")\n",
    "plt.ylabel(\"Loss\")\n",
    "plt.legend(loc=\"best\")\n",
    "plt.title('Learning Curve_GRU model')\n",
    "plt.show()"
   ]
  },
  {
   "cell_type": "code",
   "execution_count": null,
   "metadata": {},
   "outputs": [],
   "source": []
  },
  {
   "cell_type": "code",
   "execution_count": null,
   "metadata": {},
   "outputs": [],
   "source": []
  }
 ],
 "metadata": {
  "kernelspec": {
   "display_name": "Python 3",
   "language": "python",
   "name": "python3"
  },
  "language_info": {
   "codemirror_mode": {
    "name": "ipython",
    "version": 3
   },
   "file_extension": ".py",
   "mimetype": "text/x-python",
   "name": "python",
   "nbconvert_exporter": "python",
   "pygments_lexer": "ipython3",
   "version": "3.8.5"
  }
 },
 "nbformat": 4,
 "nbformat_minor": 2
}
